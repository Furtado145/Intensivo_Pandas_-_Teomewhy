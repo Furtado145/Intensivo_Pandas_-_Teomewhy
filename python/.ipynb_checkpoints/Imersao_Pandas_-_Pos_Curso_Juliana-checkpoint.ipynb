{
 "cells": [
  {
   "cell_type": "markdown",
   "metadata": {},
   "source": [
    "# Imersão de Pandas - Teo Me Why\n",
    "\n",
    "### Breve revisão de Python - Turbo"
   ]
  },
  {
   "cell_type": "code",
   "execution_count": 1,
   "metadata": {},
   "outputs": [],
   "source": [
    "#cd /home/juliana-duque/anaconda3/bin\n",
    "#anaconda-navigator\n",
    "#environment -> base(root) -> open with jupyter notebook"
   ]
  },
  {
   "cell_type": "markdown",
   "metadata": {},
   "source": [
    "#### Strings"
   ]
  },
  {
   "cell_type": "code",
   "execution_count": 2,
   "metadata": {},
   "outputs": [
    {
     "name": "stdout",
     "output_type": "stream",
     "text": [
      "Juliana Duque\n",
      "Everton Henrique\n"
     ]
    }
   ],
   "source": [
    "nome = \"Juliana Duque\"\n",
    "print (nome)\n",
    "\n",
    "nome2 = \"Everton Henrique\"\n",
    "print (nome2) "
   ]
  },
  {
   "cell_type": "markdown",
   "metadata": {},
   "source": [
    "#### Numéricos"
   ]
  },
  {
   "cell_type": "markdown",
   "metadata": {},
   "source": [
    "#### Listas\n",
    "* list comprehension"
   ]
  },
  {
   "cell_type": "code",
   "execution_count": 3,
   "metadata": {},
   "outputs": [
    {
     "data": {
      "text/plain": [
       "4"
      ]
     },
     "execution_count": 3,
     "metadata": {},
     "output_type": "execute_result"
    }
   ],
   "source": [
    "minha_lista = [\"Teo\", 28, \"Ju\", \"Amor\"]\n",
    "len(minha_lista)"
   ]
  },
  {
   "cell_type": "code",
   "execution_count": 4,
   "metadata": {},
   "outputs": [
    {
     "data": {
      "text/plain": [
       "'Teo'"
      ]
     },
     "execution_count": 4,
     "metadata": {},
     "output_type": "execute_result"
    }
   ],
   "source": [
    "minha_lista[0]"
   ]
  },
  {
   "cell_type": "markdown",
   "metadata": {},
   "source": [
    "minha_lista [-1]"
   ]
  },
  {
   "cell_type": "code",
   "execution_count": 5,
   "metadata": {},
   "outputs": [
    {
     "data": {
      "text/plain": [
       "'Amor'"
      ]
     },
     "execution_count": 5,
     "metadata": {},
     "output_type": "execute_result"
    }
   ],
   "source": [
    "minha_lista[-1]\n"
   ]
  },
  {
   "cell_type": "markdown",
   "metadata": {},
   "source": [
    "#### Dicionários"
   ]
  },
  {
   "cell_type": "code",
   "execution_count": 6,
   "metadata": {},
   "outputs": [],
   "source": [
    "dados = { 'nome': ['Laura'],\n",
    "        'sobrenome': ['Duque'],\n",
    "        'idade':[7] \n",
    "        }"
   ]
  },
  {
   "cell_type": "code",
   "execution_count": 7,
   "metadata": {},
   "outputs": [
    {
     "data": {
      "text/plain": [
       "{'nome': ['Laura'], 'sobrenome': ['Duque'], 'idade': [7]}"
      ]
     },
     "execution_count": 7,
     "metadata": {},
     "output_type": "execute_result"
    }
   ],
   "source": [
    "dados"
   ]
  },
  {
   "cell_type": "code",
   "execution_count": 8,
   "metadata": {},
   "outputs": [
    {
     "data": {
      "text/plain": [
       "'Laura'"
      ]
     },
     "execution_count": 8,
     "metadata": {},
     "output_type": "execute_result"
    }
   ],
   "source": [
    "dados [\"nome\"] [0]"
   ]
  },
  {
   "cell_type": "markdown",
   "metadata": {},
   "source": [
    "#### If, Else, Elif"
   ]
  },
  {
   "cell_type": "markdown",
   "metadata": {},
   "source": [
    "#### For & While"
   ]
  },
  {
   "cell_type": "markdown",
   "metadata": {},
   "source": [
    "#### Funções"
   ]
  },
  {
   "cell_type": "code",
   "execution_count": 9,
   "metadata": {},
   "outputs": [],
   "source": [
    "def calc_cubo (x):\n",
    "    return x ** 3"
   ]
  },
  {
   "cell_type": "code",
   "execution_count": 10,
   "metadata": {},
   "outputs": [
    {
     "data": {
      "text/plain": [
       "64"
      ]
     },
     "execution_count": 10,
     "metadata": {},
     "output_type": "execute_result"
    }
   ],
   "source": [
    "calc_cubo(4)"
   ]
  },
  {
   "cell_type": "code",
   "execution_count": 11,
   "metadata": {},
   "outputs": [],
   "source": [
    "def funcao_bivariada (x,y):\n",
    "    return 2 * x + 4 * (y ** 3)"
   ]
  },
  {
   "cell_type": "code",
   "execution_count": 12,
   "metadata": {},
   "outputs": [
    {
     "data": {
      "text/plain": [
       "276"
      ]
     },
     "execution_count": 12,
     "metadata": {},
     "output_type": "execute_result"
    }
   ],
   "source": [
    "funcao_bivariada ( 10, 4 )"
   ]
  },
  {
   "cell_type": "markdown",
   "metadata": {},
   "source": [
    "## Finalmente, Pandas\n",
    "\n",
    "\n",
    "Fingindo um pouco a análise de dados\n",
    "\n",
    "### Comandos básicos\n",
    "\n",
    "* Importação da biblioteca\n",
    "* O que são Series e Dataframes?\n",
    "    - Criando o primeiro dataframe\n",
    "* Leitura de arquivos\n",
    "* Escrita de arquivos\n",
    "* Operações básicas de DataFrame"
   ]
  },
  {
   "cell_type": "code",
   "execution_count": 13,
   "metadata": {},
   "outputs": [],
   "source": [
    "import pandas as pd  "
   ]
  },
  {
   "cell_type": "markdown",
   "metadata": {},
   "source": [
    " ### Séries"
   ]
  },
  {
   "cell_type": "code",
   "execution_count": 14,
   "metadata": {},
   "outputs": [
    {
     "data": {
      "text/plain": [
       "0      Teo\n",
       "1      Nah\n",
       "2    Laura\n",
       "3       Ju\n",
       "dtype: object"
      ]
     },
     "execution_count": 14,
     "metadata": {},
     "output_type": "execute_result"
    }
   ],
   "source": [
    "minha_serie = pd.Series ([\"Teo\" ,\"Nah\", \"Laura\", \"Ju\"])\n",
    "type(minha_serie)\n",
    "minha_serie"
   ]
  },
  {
   "cell_type": "code",
   "execution_count": 15,
   "metadata": {},
   "outputs": [
    {
     "data": {
      "text/plain": [
       "'Teo'"
      ]
     },
     "execution_count": 15,
     "metadata": {},
     "output_type": "execute_result"
    }
   ],
   "source": [
    "minha_serie [ 0 ]"
   ]
  },
  {
   "cell_type": "code",
   "execution_count": 16,
   "metadata": {},
   "outputs": [
    {
     "data": {
      "text/plain": [
       "1      Nah\n",
       "2    Laura\n",
       "3       Ju\n",
       "dtype: object"
      ]
     },
     "execution_count": 16,
     "metadata": {},
     "output_type": "execute_result"
    }
   ],
   "source": [
    "minha_serie [1:]"
   ]
  },
  {
   "cell_type": "code",
   "execution_count": 17,
   "metadata": {},
   "outputs": [],
   "source": [
    "minha_serie.name"
   ]
  },
  {
   "cell_type": "code",
   "execution_count": 18,
   "metadata": {},
   "outputs": [],
   "source": [
    "dados = {\"nome\": [\"Teo\", \"Nah\", \"Lara\", \"Ju\"]}\n",
    "nova_serie = pd.Series(dados, name = \"nome\")"
   ]
  },
  {
   "cell_type": "code",
   "execution_count": 19,
   "metadata": {},
   "outputs": [
    {
     "data": {
      "text/plain": [
       "nome    [Teo, Nah, Lara, Ju]\n",
       "Name: nome, dtype: object"
      ]
     },
     "execution_count": 19,
     "metadata": {},
     "output_type": "execute_result"
    }
   ],
   "source": [
    "nova_serie"
   ]
  },
  {
   "cell_type": "code",
   "execution_count": 20,
   "metadata": {},
   "outputs": [
    {
     "data": {
      "text/plain": [
       "nome    False\n",
       "Name: nome, dtype: bool"
      ]
     },
     "execution_count": 20,
     "metadata": {},
     "output_type": "execute_result"
    }
   ],
   "source": [
    "nova_serie == \"Téo\""
   ]
  },
  {
   "cell_type": "code",
   "execution_count": 21,
   "metadata": {},
   "outputs": [
    {
     "data": {
      "text/plain": [
       "0    43\n",
       "1    24\n",
       "2    27\n",
       "3    10\n",
       "4    15\n",
       "5    17\n",
       "6    30\n",
       "7    45\n",
       "dtype: int64"
      ]
     },
     "execution_count": 21,
     "metadata": {},
     "output_type": "execute_result"
    }
   ],
   "source": [
    "idade = pd.Series ( [43, 24 ,27 ,10, 15, 17, 30, 45 ])\n",
    "idade\n"
   ]
  },
  {
   "cell_type": "code",
   "execution_count": 22,
   "metadata": {},
   "outputs": [
    {
     "data": {
      "text/plain": [
       "0     True\n",
       "1     True\n",
       "2     True\n",
       "3    False\n",
       "4    False\n",
       "5    False\n",
       "6     True\n",
       "7     True\n",
       "dtype: bool"
      ]
     },
     "execution_count": 22,
     "metadata": {},
     "output_type": "execute_result"
    }
   ],
   "source": [
    "idade > 18"
   ]
  },
  {
   "cell_type": "code",
   "execution_count": 23,
   "metadata": {},
   "outputs": [
    {
     "data": {
      "text/plain": [
       "0    430\n",
       "1    240\n",
       "2    270\n",
       "3    100\n",
       "4    150\n",
       "5    170\n",
       "6    300\n",
       "7    450\n",
       "dtype: int64"
      ]
     },
     "execution_count": 23,
     "metadata": {},
     "output_type": "execute_result"
    }
   ],
   "source": [
    "idade  * 10"
   ]
  },
  {
   "cell_type": "markdown",
   "metadata": {},
   "source": [
    "### Testando "
   ]
  },
  {
   "cell_type": "code",
   "execution_count": 24,
   "metadata": {},
   "outputs": [],
   "source": [
    "dados = { \"nome\":[\"Téo\", \"Nah\", \"Lara\", \"Ju\"],\n",
    "         \"sobrenome\":[\"Calvo\", \"Gironde\", \"Calvo\", \"Duc\"],\n",
    "         \"idade\":[28,30,27, 26], }"
   ]
  },
  {
   "cell_type": "code",
   "execution_count": 25,
   "metadata": {},
   "outputs": [
    {
     "data": {
      "text/plain": [
       "{'nome': ['Téo', 'Nah', 'Lara', 'Ju'],\n",
       " 'sobrenome': ['Calvo', 'Gironde', 'Calvo', 'Duc'],\n",
       " 'idade': [28, 30, 27, 26]}"
      ]
     },
     "execution_count": 25,
     "metadata": {},
     "output_type": "execute_result"
    }
   ],
   "source": [
    "dados"
   ]
  },
  {
   "cell_type": "code",
   "execution_count": 26,
   "metadata": {},
   "outputs": [
    {
     "data": {
      "text/plain": [
       "['Téo', 'Nah', 'Lara', 'Ju']"
      ]
     },
     "execution_count": 26,
     "metadata": {},
     "output_type": "execute_result"
    }
   ],
   "source": [
    "dados[\"nome\"] # retorna lista"
   ]
  },
  {
   "cell_type": "code",
   "execution_count": 27,
   "metadata": {},
   "outputs": [],
   "source": [
    "df_dados = pd.DataFrame(dados)"
   ]
  },
  {
   "cell_type": "code",
   "execution_count": 28,
   "metadata": {},
   "outputs": [
    {
     "data": {
      "text/plain": [
       "0     Téo\n",
       "1     Nah\n",
       "2    Lara\n",
       "3      Ju\n",
       "Name: nome, dtype: object"
      ]
     },
     "execution_count": 28,
     "metadata": {},
     "output_type": "execute_result"
    }
   ],
   "source": [
    "df_dados[\"nome\"] # retorna uma serie"
   ]
  },
  {
   "cell_type": "code",
   "execution_count": 29,
   "metadata": {},
   "outputs": [
    {
     "data": {
      "text/plain": [
       "['Téo', 'Nah', 'Lara', 'Ju']"
      ]
     },
     "execution_count": 29,
     "metadata": {},
     "output_type": "execute_result"
    }
   ],
   "source": [
    "df_dados[\"nome\"].tolist() #converte para lista"
   ]
  },
  {
   "cell_type": "code",
   "execution_count": 30,
   "metadata": {},
   "outputs": [
    {
     "data": {
      "text/plain": [
       "0     True\n",
       "1    False\n",
       "2    False\n",
       "3    False\n",
       "Name: nome, dtype: bool"
      ]
     },
     "execution_count": 30,
     "metadata": {},
     "output_type": "execute_result"
    }
   ],
   "source": [
    "df_dados[\"nome\"] == \"Téo\""
   ]
  },
  {
   "cell_type": "code",
   "execution_count": 32,
   "metadata": {
    "scrolled": true
   },
   "outputs": [
    {
     "data": {
      "text/html": [
       "<div>\n",
       "<style scoped>\n",
       "    .dataframe tbody tr th:only-of-type {\n",
       "        vertical-align: middle;\n",
       "    }\n",
       "\n",
       "    .dataframe tbody tr th {\n",
       "        vertical-align: top;\n",
       "    }\n",
       "\n",
       "    .dataframe thead th {\n",
       "        text-align: right;\n",
       "    }\n",
       "</style>\n",
       "<table border=\"1\" class=\"dataframe\">\n",
       "  <thead>\n",
       "    <tr style=\"text-align: right;\">\n",
       "      <th></th>\n",
       "      <th>nome</th>\n",
       "      <th>sobrenome</th>\n",
       "      <th>idade</th>\n",
       "    </tr>\n",
       "  </thead>\n",
       "  <tbody>\n",
       "    <tr>\n",
       "      <th>0</th>\n",
       "      <td>Téo</td>\n",
       "      <td>Calvo</td>\n",
       "      <td>28</td>\n",
       "    </tr>\n",
       "    <tr>\n",
       "      <th>1</th>\n",
       "      <td>Nah</td>\n",
       "      <td>Gironde</td>\n",
       "      <td>30</td>\n",
       "    </tr>\n",
       "    <tr>\n",
       "      <th>2</th>\n",
       "      <td>Lara</td>\n",
       "      <td>Calvo</td>\n",
       "      <td>27</td>\n",
       "    </tr>\n",
       "    <tr>\n",
       "      <th>3</th>\n",
       "      <td>Ju</td>\n",
       "      <td>Duc</td>\n",
       "      <td>26</td>\n",
       "    </tr>\n",
       "  </tbody>\n",
       "</table>\n",
       "</div>"
      ],
      "text/plain": [
       "   nome sobrenome  idade\n",
       "0   Téo     Calvo     28\n",
       "1   Nah   Gironde     30\n",
       "2  Lara     Calvo     27\n",
       "3    Ju       Duc     26"
      ]
     },
     "execution_count": 32,
     "metadata": {},
     "output_type": "execute_result"
    }
   ],
   "source": [
    "df_dados"
   ]
  },
  {
   "cell_type": "markdown",
   "metadata": {},
   "source": [
    "### Importando dados"
   ]
  },
  {
   "cell_type": "code",
   "execution_count": 33,
   "metadata": {},
   "outputs": [
    {
     "name": "stderr",
     "output_type": "stream",
     "text": [
      "C:\\Users\\felip\\anaconda3\\lib\\site-packages\\IPython\\core\\interactiveshell.py:3146: DtypeWarning: Columns (8) have mixed types.Specify dtype option on import or set low_memory=False.\n",
      "  has_raised = await self.run_ast_nodes(code_ast.body, cell_name,\n"
     ]
    }
   ],
   "source": [
    "df_votacao = pd.read_csv (\"../data/votacao_agg_estado.csv\")"
   ]
  },
  {
   "cell_type": "code",
   "execution_count": 34,
   "metadata": {},
   "outputs": [],
   "source": [
    "df_votacao2 = pd.read_csv (\"../data/votacao_agg_estado.csv\")"
   ]
  },
  {
   "cell_type": "code",
   "execution_count": 35,
   "metadata": {},
   "outputs": [
    {
     "data": {
      "text/html": [
       "<div>\n",
       "<style scoped>\n",
       "    .dataframe tbody tr th:only-of-type {\n",
       "        vertical-align: middle;\n",
       "    }\n",
       "\n",
       "    .dataframe tbody tr th {\n",
       "        vertical-align: top;\n",
       "    }\n",
       "\n",
       "    .dataframe thead th {\n",
       "        text-align: right;\n",
       "    }\n",
       "</style>\n",
       "<table border=\"1\" class=\"dataframe\">\n",
       "  <thead>\n",
       "    <tr style=\"text-align: right;\">\n",
       "      <th></th>\n",
       "      <th>ano_eleicao</th>\n",
       "      <th>descricao_eleicao</th>\n",
       "      <th>numero_turno</th>\n",
       "      <th>nome_partido</th>\n",
       "      <th>numero_partido</th>\n",
       "      <th>sigla_partido</th>\n",
       "      <th>descricao_cargo</th>\n",
       "      <th>descricao_situacao_candidatura</th>\n",
       "      <th>descricao_situacao_candidatura_superior</th>\n",
       "      <th>nome</th>\n",
       "      <th>...</th>\n",
       "      <th>total_votos_to</th>\n",
       "      <th>total_votos_pa</th>\n",
       "      <th>total_votos_ms</th>\n",
       "      <th>total_votos_pi</th>\n",
       "      <th>total_votos_ma</th>\n",
       "      <th>total_votos_df</th>\n",
       "      <th>total_votos_es</th>\n",
       "      <th>total_votos_rr</th>\n",
       "      <th>total_votos_sc</th>\n",
       "      <th>total_votos</th>\n",
       "    </tr>\n",
       "  </thead>\n",
       "  <tbody>\n",
       "    <tr>\n",
       "      <th>0</th>\n",
       "      <td>2014</td>\n",
       "      <td>ELEICAO SUPLEMENTAR GOVERNADOR AM</td>\n",
       "      <td>1</td>\n",
       "      <td>PARTIDO DEMOCRATICO TRABALHISTA</td>\n",
       "      <td>12</td>\n",
       "      <td>PDT</td>\n",
       "      <td>GOVERNADOR</td>\n",
       "      <td>DEFERIDO</td>\n",
       "      <td>APTO</td>\n",
       "      <td>AMAZONINO ARMANDO MENDES</td>\n",
       "      <td>...</td>\n",
       "      <td>0</td>\n",
       "      <td>0</td>\n",
       "      <td>0</td>\n",
       "      <td>0</td>\n",
       "      <td>0</td>\n",
       "      <td>0</td>\n",
       "      <td>0</td>\n",
       "      <td>0</td>\n",
       "      <td>0</td>\n",
       "      <td>577397</td>\n",
       "    </tr>\n",
       "    <tr>\n",
       "      <th>1</th>\n",
       "      <td>2014</td>\n",
       "      <td>ELEICAO SUPLEMENTAR GOVERNADOR AM</td>\n",
       "      <td>1</td>\n",
       "      <td>PARTIDO DO MOVIMENTO DEMOCRATICO BRASILEIRO</td>\n",
       "      <td>15</td>\n",
       "      <td>PMDB</td>\n",
       "      <td>GOVERNADOR</td>\n",
       "      <td>DEFERIDO</td>\n",
       "      <td>APTO</td>\n",
       "      <td>CARLOS EDUARDO DE SOUZA BRAGA</td>\n",
       "      <td>...</td>\n",
       "      <td>0</td>\n",
       "      <td>0</td>\n",
       "      <td>0</td>\n",
       "      <td>0</td>\n",
       "      <td>0</td>\n",
       "      <td>0</td>\n",
       "      <td>0</td>\n",
       "      <td>0</td>\n",
       "      <td>0</td>\n",
       "      <td>377680</td>\n",
       "    </tr>\n",
       "    <tr>\n",
       "      <th>2</th>\n",
       "      <td>2014</td>\n",
       "      <td>ELEICAO SUPLEMENTAR GOVERNADOR AM</td>\n",
       "      <td>1</td>\n",
       "      <td>PARTIDO DOS TRABALHADORES</td>\n",
       "      <td>13</td>\n",
       "      <td>PT</td>\n",
       "      <td>GOVERNADOR</td>\n",
       "      <td>DEFERIDO</td>\n",
       "      <td>APTO</td>\n",
       "      <td>JOSE RICARDO WENDLING</td>\n",
       "      <td>...</td>\n",
       "      <td>0</td>\n",
       "      <td>0</td>\n",
       "      <td>0</td>\n",
       "      <td>0</td>\n",
       "      <td>0</td>\n",
       "      <td>0</td>\n",
       "      <td>0</td>\n",
       "      <td>0</td>\n",
       "      <td>0</td>\n",
       "      <td>181257</td>\n",
       "    </tr>\n",
       "    <tr>\n",
       "      <th>3</th>\n",
       "      <td>2014</td>\n",
       "      <td>ELEICAO SUPLEMENTAR GOVERNADOR AM</td>\n",
       "      <td>1</td>\n",
       "      <td>PARTIDO HUMANISTA DA SOLIDARIEDADE</td>\n",
       "      <td>31</td>\n",
       "      <td>PHS</td>\n",
       "      <td>GOVERNADOR</td>\n",
       "      <td>DEFERIDO</td>\n",
       "      <td>APTO</td>\n",
       "      <td>MAURICIO WILKER DE AZEVEDO BARRETO</td>\n",
       "      <td>...</td>\n",
       "      <td>0</td>\n",
       "      <td>0</td>\n",
       "      <td>0</td>\n",
       "      <td>0</td>\n",
       "      <td>0</td>\n",
       "      <td>0</td>\n",
       "      <td>0</td>\n",
       "      <td>0</td>\n",
       "      <td>0</td>\n",
       "      <td>22623</td>\n",
       "    </tr>\n",
       "    <tr>\n",
       "      <th>4</th>\n",
       "      <td>2014</td>\n",
       "      <td>ELEICAO SUPLEMENTAR GOVERNADOR AM</td>\n",
       "      <td>1</td>\n",
       "      <td>PARTIDO PATRIA LIVRE</td>\n",
       "      <td>54</td>\n",
       "      <td>PPL</td>\n",
       "      <td>GOVERNADOR</td>\n",
       "      <td>DEFERIDO</td>\n",
       "      <td>APTO</td>\n",
       "      <td>JADELVONE NOGUEIRA DELTRUDES</td>\n",
       "      <td>...</td>\n",
       "      <td>0</td>\n",
       "      <td>0</td>\n",
       "      <td>0</td>\n",
       "      <td>0</td>\n",
       "      <td>0</td>\n",
       "      <td>0</td>\n",
       "      <td>0</td>\n",
       "      <td>0</td>\n",
       "      <td>0</td>\n",
       "      <td>3362</td>\n",
       "    </tr>\n",
       "    <tr>\n",
       "      <th>...</th>\n",
       "      <td>...</td>\n",
       "      <td>...</td>\n",
       "      <td>...</td>\n",
       "      <td>...</td>\n",
       "      <td>...</td>\n",
       "      <td>...</td>\n",
       "      <td>...</td>\n",
       "      <td>...</td>\n",
       "      <td>...</td>\n",
       "      <td>...</td>\n",
       "      <td>...</td>\n",
       "      <td>...</td>\n",
       "      <td>...</td>\n",
       "      <td>...</td>\n",
       "      <td>...</td>\n",
       "      <td>...</td>\n",
       "      <td>...</td>\n",
       "      <td>...</td>\n",
       "      <td>...</td>\n",
       "      <td>...</td>\n",
       "      <td>...</td>\n",
       "    </tr>\n",
       "    <tr>\n",
       "      <th>511100</th>\n",
       "      <td>2018</td>\n",
       "      <td>ELEICOES GERAIS ESTADUAIS 2018</td>\n",
       "      <td>2</td>\n",
       "      <td>PARTIDO SOCIAL LIBERAL</td>\n",
       "      <td>17</td>\n",
       "      <td>PSL</td>\n",
       "      <td>GOVERNADOR</td>\n",
       "      <td>APTO</td>\n",
       "      <td>NaN</td>\n",
       "      <td>MARCOS JOSE ROCHA DOS SANTOS</td>\n",
       "      <td>...</td>\n",
       "      <td>0</td>\n",
       "      <td>0</td>\n",
       "      <td>0</td>\n",
       "      <td>0</td>\n",
       "      <td>0</td>\n",
       "      <td>0</td>\n",
       "      <td>0</td>\n",
       "      <td>0</td>\n",
       "      <td>0</td>\n",
       "      <td>530188</td>\n",
       "    </tr>\n",
       "    <tr>\n",
       "      <th>511101</th>\n",
       "      <td>2018</td>\n",
       "      <td>ELEICOES GERAIS ESTADUAIS 2018</td>\n",
       "      <td>2</td>\n",
       "      <td>PARTIDO SOCIALISTA BRASILEIRO</td>\n",
       "      <td>40</td>\n",
       "      <td>PSB</td>\n",
       "      <td>GOVERNADOR</td>\n",
       "      <td>APTO</td>\n",
       "      <td>NaN</td>\n",
       "      <td>ANTONIO CARLOS VALADARES FILHO</td>\n",
       "      <td>...</td>\n",
       "      <td>0</td>\n",
       "      <td>0</td>\n",
       "      <td>0</td>\n",
       "      <td>0</td>\n",
       "      <td>0</td>\n",
       "      <td>0</td>\n",
       "      <td>0</td>\n",
       "      <td>0</td>\n",
       "      <td>0</td>\n",
       "      <td>370161</td>\n",
       "    </tr>\n",
       "    <tr>\n",
       "      <th>511102</th>\n",
       "      <td>2018</td>\n",
       "      <td>ELEICOES GERAIS ESTADUAIS 2018</td>\n",
       "      <td>2</td>\n",
       "      <td>PARTIDO SOCIALISTA BRASILEIRO</td>\n",
       "      <td>40</td>\n",
       "      <td>PSB</td>\n",
       "      <td>GOVERNADOR</td>\n",
       "      <td>APTO</td>\n",
       "      <td>NaN</td>\n",
       "      <td>JOAO ALBERTO RODRIGUES CAPIBERIBE</td>\n",
       "      <td>...</td>\n",
       "      <td>0</td>\n",
       "      <td>0</td>\n",
       "      <td>0</td>\n",
       "      <td>0</td>\n",
       "      <td>0</td>\n",
       "      <td>0</td>\n",
       "      <td>0</td>\n",
       "      <td>0</td>\n",
       "      <td>0</td>\n",
       "      <td>174540</td>\n",
       "    </tr>\n",
       "    <tr>\n",
       "      <th>511103</th>\n",
       "      <td>2018</td>\n",
       "      <td>ELEICOES GERAIS ESTADUAIS 2018</td>\n",
       "      <td>2</td>\n",
       "      <td>PARTIDO SOCIALISTA BRASILEIRO</td>\n",
       "      <td>40</td>\n",
       "      <td>PSB</td>\n",
       "      <td>GOVERNADOR</td>\n",
       "      <td>APTO</td>\n",
       "      <td>NaN</td>\n",
       "      <td>MARCIO LUIZ FRANCA GOMES</td>\n",
       "      <td>...</td>\n",
       "      <td>0</td>\n",
       "      <td>0</td>\n",
       "      <td>0</td>\n",
       "      <td>0</td>\n",
       "      <td>0</td>\n",
       "      <td>0</td>\n",
       "      <td>0</td>\n",
       "      <td>0</td>\n",
       "      <td>0</td>\n",
       "      <td>20497480</td>\n",
       "    </tr>\n",
       "    <tr>\n",
       "      <th>511104</th>\n",
       "      <td>2018</td>\n",
       "      <td>ELEICOES GERAIS ESTADUAIS 2018</td>\n",
       "      <td>2</td>\n",
       "      <td>PARTIDO SOCIALISTA BRASILEIRO</td>\n",
       "      <td>40</td>\n",
       "      <td>PSB</td>\n",
       "      <td>GOVERNADOR</td>\n",
       "      <td>APTO</td>\n",
       "      <td>NaN</td>\n",
       "      <td>RODRIGO SOBRAL ROLLEMBERG</td>\n",
       "      <td>...</td>\n",
       "      <td>0</td>\n",
       "      <td>0</td>\n",
       "      <td>0</td>\n",
       "      <td>0</td>\n",
       "      <td>0</td>\n",
       "      <td>451329</td>\n",
       "      <td>0</td>\n",
       "      <td>0</td>\n",
       "      <td>0</td>\n",
       "      <td>451329</td>\n",
       "    </tr>\n",
       "  </tbody>\n",
       "</table>\n",
       "<p>511105 rows × 43 columns</p>\n",
       "</div>"
      ],
      "text/plain": [
       "        ano_eleicao                  descricao_eleicao  numero_turno  \\\n",
       "0              2014  ELEICAO SUPLEMENTAR GOVERNADOR AM             1   \n",
       "1              2014  ELEICAO SUPLEMENTAR GOVERNADOR AM             1   \n",
       "2              2014  ELEICAO SUPLEMENTAR GOVERNADOR AM             1   \n",
       "3              2014  ELEICAO SUPLEMENTAR GOVERNADOR AM             1   \n",
       "4              2014  ELEICAO SUPLEMENTAR GOVERNADOR AM             1   \n",
       "...             ...                                ...           ...   \n",
       "511100         2018     ELEICOES GERAIS ESTADUAIS 2018             2   \n",
       "511101         2018     ELEICOES GERAIS ESTADUAIS 2018             2   \n",
       "511102         2018     ELEICOES GERAIS ESTADUAIS 2018             2   \n",
       "511103         2018     ELEICOES GERAIS ESTADUAIS 2018             2   \n",
       "511104         2018     ELEICOES GERAIS ESTADUAIS 2018             2   \n",
       "\n",
       "                                       nome_partido  numero_partido  \\\n",
       "0                   PARTIDO DEMOCRATICO TRABALHISTA              12   \n",
       "1       PARTIDO DO MOVIMENTO DEMOCRATICO BRASILEIRO              15   \n",
       "2                         PARTIDO DOS TRABALHADORES              13   \n",
       "3                PARTIDO HUMANISTA DA SOLIDARIEDADE              31   \n",
       "4                              PARTIDO PATRIA LIVRE              54   \n",
       "...                                             ...             ...   \n",
       "511100                       PARTIDO SOCIAL LIBERAL              17   \n",
       "511101                PARTIDO SOCIALISTA BRASILEIRO              40   \n",
       "511102                PARTIDO SOCIALISTA BRASILEIRO              40   \n",
       "511103                PARTIDO SOCIALISTA BRASILEIRO              40   \n",
       "511104                PARTIDO SOCIALISTA BRASILEIRO              40   \n",
       "\n",
       "       sigla_partido descricao_cargo descricao_situacao_candidatura  \\\n",
       "0                PDT      GOVERNADOR                       DEFERIDO   \n",
       "1               PMDB      GOVERNADOR                       DEFERIDO   \n",
       "2                 PT      GOVERNADOR                       DEFERIDO   \n",
       "3                PHS      GOVERNADOR                       DEFERIDO   \n",
       "4                PPL      GOVERNADOR                       DEFERIDO   \n",
       "...              ...             ...                            ...   \n",
       "511100           PSL      GOVERNADOR                           APTO   \n",
       "511101           PSB      GOVERNADOR                           APTO   \n",
       "511102           PSB      GOVERNADOR                           APTO   \n",
       "511103           PSB      GOVERNADOR                           APTO   \n",
       "511104           PSB      GOVERNADOR                           APTO   \n",
       "\n",
       "       descricao_situacao_candidatura_superior  \\\n",
       "0                                         APTO   \n",
       "1                                         APTO   \n",
       "2                                         APTO   \n",
       "3                                         APTO   \n",
       "4                                         APTO   \n",
       "...                                        ...   \n",
       "511100                                     NaN   \n",
       "511101                                     NaN   \n",
       "511102                                     NaN   \n",
       "511103                                     NaN   \n",
       "511104                                     NaN   \n",
       "\n",
       "                                      nome  ...  total_votos_to  \\\n",
       "0                 AMAZONINO ARMANDO MENDES  ...               0   \n",
       "1            CARLOS EDUARDO DE SOUZA BRAGA  ...               0   \n",
       "2                    JOSE RICARDO WENDLING  ...               0   \n",
       "3       MAURICIO WILKER DE AZEVEDO BARRETO  ...               0   \n",
       "4             JADELVONE NOGUEIRA DELTRUDES  ...               0   \n",
       "...                                    ...  ...             ...   \n",
       "511100        MARCOS JOSE ROCHA DOS SANTOS  ...               0   \n",
       "511101      ANTONIO CARLOS VALADARES FILHO  ...               0   \n",
       "511102   JOAO ALBERTO RODRIGUES CAPIBERIBE  ...               0   \n",
       "511103            MARCIO LUIZ FRANCA GOMES  ...               0   \n",
       "511104           RODRIGO SOBRAL ROLLEMBERG  ...               0   \n",
       "\n",
       "       total_votos_pa  total_votos_ms  total_votos_pi  total_votos_ma  \\\n",
       "0                   0               0               0               0   \n",
       "1                   0               0               0               0   \n",
       "2                   0               0               0               0   \n",
       "3                   0               0               0               0   \n",
       "4                   0               0               0               0   \n",
       "...               ...             ...             ...             ...   \n",
       "511100              0               0               0               0   \n",
       "511101              0               0               0               0   \n",
       "511102              0               0               0               0   \n",
       "511103              0               0               0               0   \n",
       "511104              0               0               0               0   \n",
       "\n",
       "        total_votos_df  total_votos_es  total_votos_rr  total_votos_sc  \\\n",
       "0                    0               0               0               0   \n",
       "1                    0               0               0               0   \n",
       "2                    0               0               0               0   \n",
       "3                    0               0               0               0   \n",
       "4                    0               0               0               0   \n",
       "...                ...             ...             ...             ...   \n",
       "511100               0               0               0               0   \n",
       "511101               0               0               0               0   \n",
       "511102               0               0               0               0   \n",
       "511103               0               0               0               0   \n",
       "511104          451329               0               0               0   \n",
       "\n",
       "        total_votos  \n",
       "0            577397  \n",
       "1            377680  \n",
       "2            181257  \n",
       "3             22623  \n",
       "4              3362  \n",
       "...             ...  \n",
       "511100       530188  \n",
       "511101       370161  \n",
       "511102       174540  \n",
       "511103     20497480  \n",
       "511104       451329  \n",
       "\n",
       "[511105 rows x 43 columns]"
      ]
     },
     "execution_count": 35,
     "metadata": {},
     "output_type": "execute_result"
    }
   ],
   "source": [
    "df_votacao"
   ]
  },
  {
   "cell_type": "code",
   "execution_count": 36,
   "metadata": {
    "scrolled": true
   },
   "outputs": [
    {
     "data": {
      "text/html": [
       "<div>\n",
       "<style scoped>\n",
       "    .dataframe tbody tr th:only-of-type {\n",
       "        vertical-align: middle;\n",
       "    }\n",
       "\n",
       "    .dataframe tbody tr th {\n",
       "        vertical-align: top;\n",
       "    }\n",
       "\n",
       "    .dataframe thead th {\n",
       "        text-align: right;\n",
       "    }\n",
       "</style>\n",
       "<table border=\"1\" class=\"dataframe\">\n",
       "  <thead>\n",
       "    <tr style=\"text-align: right;\">\n",
       "      <th></th>\n",
       "      <th>ano_eleicao</th>\n",
       "      <th>descricao_eleicao</th>\n",
       "      <th>numero_turno</th>\n",
       "      <th>nome_partido</th>\n",
       "      <th>numero_partido</th>\n",
       "      <th>sigla_partido</th>\n",
       "      <th>descricao_cargo</th>\n",
       "      <th>descricao_situacao_candidatura</th>\n",
       "      <th>descricao_situacao_candidatura_superior</th>\n",
       "      <th>nome</th>\n",
       "      <th>...</th>\n",
       "      <th>total_votos_to</th>\n",
       "      <th>total_votos_pa</th>\n",
       "      <th>total_votos_ms</th>\n",
       "      <th>total_votos_pi</th>\n",
       "      <th>total_votos_ma</th>\n",
       "      <th>total_votos_df</th>\n",
       "      <th>total_votos_es</th>\n",
       "      <th>total_votos_rr</th>\n",
       "      <th>total_votos_sc</th>\n",
       "      <th>total_votos</th>\n",
       "    </tr>\n",
       "  </thead>\n",
       "  <tbody>\n",
       "    <tr>\n",
       "      <th>0</th>\n",
       "      <td>2014</td>\n",
       "      <td>ELEICAO SUPLEMENTAR GOVERNADOR AM</td>\n",
       "      <td>1</td>\n",
       "      <td>PARTIDO DEMOCRATICO TRABALHISTA</td>\n",
       "      <td>12</td>\n",
       "      <td>PDT</td>\n",
       "      <td>GOVERNADOR</td>\n",
       "      <td>DEFERIDO</td>\n",
       "      <td>APTO</td>\n",
       "      <td>AMAZONINO ARMANDO MENDES</td>\n",
       "      <td>...</td>\n",
       "      <td>0</td>\n",
       "      <td>0</td>\n",
       "      <td>0</td>\n",
       "      <td>0</td>\n",
       "      <td>0</td>\n",
       "      <td>0</td>\n",
       "      <td>0</td>\n",
       "      <td>0</td>\n",
       "      <td>0</td>\n",
       "      <td>577397</td>\n",
       "    </tr>\n",
       "    <tr>\n",
       "      <th>1</th>\n",
       "      <td>2014</td>\n",
       "      <td>ELEICAO SUPLEMENTAR GOVERNADOR AM</td>\n",
       "      <td>1</td>\n",
       "      <td>PARTIDO DO MOVIMENTO DEMOCRATICO BRASILEIRO</td>\n",
       "      <td>15</td>\n",
       "      <td>PMDB</td>\n",
       "      <td>GOVERNADOR</td>\n",
       "      <td>DEFERIDO</td>\n",
       "      <td>APTO</td>\n",
       "      <td>CARLOS EDUARDO DE SOUZA BRAGA</td>\n",
       "      <td>...</td>\n",
       "      <td>0</td>\n",
       "      <td>0</td>\n",
       "      <td>0</td>\n",
       "      <td>0</td>\n",
       "      <td>0</td>\n",
       "      <td>0</td>\n",
       "      <td>0</td>\n",
       "      <td>0</td>\n",
       "      <td>0</td>\n",
       "      <td>377680</td>\n",
       "    </tr>\n",
       "  </tbody>\n",
       "</table>\n",
       "<p>2 rows × 43 columns</p>\n",
       "</div>"
      ],
      "text/plain": [
       "   ano_eleicao                  descricao_eleicao  numero_turno  \\\n",
       "0         2014  ELEICAO SUPLEMENTAR GOVERNADOR AM             1   \n",
       "1         2014  ELEICAO SUPLEMENTAR GOVERNADOR AM             1   \n",
       "\n",
       "                                  nome_partido  numero_partido sigla_partido  \\\n",
       "0              PARTIDO DEMOCRATICO TRABALHISTA              12           PDT   \n",
       "1  PARTIDO DO MOVIMENTO DEMOCRATICO BRASILEIRO              15          PMDB   \n",
       "\n",
       "  descricao_cargo descricao_situacao_candidatura  \\\n",
       "0      GOVERNADOR                       DEFERIDO   \n",
       "1      GOVERNADOR                       DEFERIDO   \n",
       "\n",
       "  descricao_situacao_candidatura_superior                           nome  ...  \\\n",
       "0                                    APTO       AMAZONINO ARMANDO MENDES  ...   \n",
       "1                                    APTO  CARLOS EDUARDO DE SOUZA BRAGA  ...   \n",
       "\n",
       "   total_votos_to total_votos_pa  total_votos_ms  total_votos_pi  \\\n",
       "0               0              0               0               0   \n",
       "1               0              0               0               0   \n",
       "\n",
       "   total_votos_ma  total_votos_df  total_votos_es  total_votos_rr  \\\n",
       "0               0               0               0               0   \n",
       "1               0               0               0               0   \n",
       "\n",
       "   total_votos_sc  total_votos  \n",
       "0               0       577397  \n",
       "1               0       377680  \n",
       "\n",
       "[2 rows x 43 columns]"
      ]
     },
     "execution_count": 36,
     "metadata": {},
     "output_type": "execute_result"
    }
   ],
   "source": [
    "df_votacao.head(2)\n"
   ]
  },
  {
   "cell_type": "code",
   "execution_count": 37,
   "metadata": {},
   "outputs": [
    {
     "data": {
      "text/html": [
       "<div>\n",
       "<style scoped>\n",
       "    .dataframe tbody tr th:only-of-type {\n",
       "        vertical-align: middle;\n",
       "    }\n",
       "\n",
       "    .dataframe tbody tr th {\n",
       "        vertical-align: top;\n",
       "    }\n",
       "\n",
       "    .dataframe thead th {\n",
       "        text-align: right;\n",
       "    }\n",
       "</style>\n",
       "<table border=\"1\" class=\"dataframe\">\n",
       "  <thead>\n",
       "    <tr style=\"text-align: right;\">\n",
       "      <th></th>\n",
       "      <th>ano_eleicao</th>\n",
       "      <th>descricao_eleicao</th>\n",
       "      <th>numero_turno</th>\n",
       "      <th>nome_partido</th>\n",
       "      <th>numero_partido</th>\n",
       "      <th>sigla_partido</th>\n",
       "      <th>descricao_cargo</th>\n",
       "      <th>descricao_situacao_candidatura</th>\n",
       "      <th>descricao_situacao_candidatura_superior</th>\n",
       "      <th>nome</th>\n",
       "      <th>...</th>\n",
       "      <th>total_votos_to</th>\n",
       "      <th>total_votos_pa</th>\n",
       "      <th>total_votos_ms</th>\n",
       "      <th>total_votos_pi</th>\n",
       "      <th>total_votos_ma</th>\n",
       "      <th>total_votos_df</th>\n",
       "      <th>total_votos_es</th>\n",
       "      <th>total_votos_rr</th>\n",
       "      <th>total_votos_sc</th>\n",
       "      <th>total_votos</th>\n",
       "    </tr>\n",
       "  </thead>\n",
       "  <tbody>\n",
       "    <tr>\n",
       "      <th>511103</th>\n",
       "      <td>2018</td>\n",
       "      <td>ELEICOES GERAIS ESTADUAIS 2018</td>\n",
       "      <td>2</td>\n",
       "      <td>PARTIDO SOCIALISTA BRASILEIRO</td>\n",
       "      <td>40</td>\n",
       "      <td>PSB</td>\n",
       "      <td>GOVERNADOR</td>\n",
       "      <td>APTO</td>\n",
       "      <td>NaN</td>\n",
       "      <td>MARCIO LUIZ FRANCA GOMES</td>\n",
       "      <td>...</td>\n",
       "      <td>0</td>\n",
       "      <td>0</td>\n",
       "      <td>0</td>\n",
       "      <td>0</td>\n",
       "      <td>0</td>\n",
       "      <td>0</td>\n",
       "      <td>0</td>\n",
       "      <td>0</td>\n",
       "      <td>0</td>\n",
       "      <td>20497480</td>\n",
       "    </tr>\n",
       "    <tr>\n",
       "      <th>511104</th>\n",
       "      <td>2018</td>\n",
       "      <td>ELEICOES GERAIS ESTADUAIS 2018</td>\n",
       "      <td>2</td>\n",
       "      <td>PARTIDO SOCIALISTA BRASILEIRO</td>\n",
       "      <td>40</td>\n",
       "      <td>PSB</td>\n",
       "      <td>GOVERNADOR</td>\n",
       "      <td>APTO</td>\n",
       "      <td>NaN</td>\n",
       "      <td>RODRIGO SOBRAL ROLLEMBERG</td>\n",
       "      <td>...</td>\n",
       "      <td>0</td>\n",
       "      <td>0</td>\n",
       "      <td>0</td>\n",
       "      <td>0</td>\n",
       "      <td>0</td>\n",
       "      <td>451329</td>\n",
       "      <td>0</td>\n",
       "      <td>0</td>\n",
       "      <td>0</td>\n",
       "      <td>451329</td>\n",
       "    </tr>\n",
       "  </tbody>\n",
       "</table>\n",
       "<p>2 rows × 43 columns</p>\n",
       "</div>"
      ],
      "text/plain": [
       "        ano_eleicao               descricao_eleicao  numero_turno  \\\n",
       "511103         2018  ELEICOES GERAIS ESTADUAIS 2018             2   \n",
       "511104         2018  ELEICOES GERAIS ESTADUAIS 2018             2   \n",
       "\n",
       "                         nome_partido  numero_partido sigla_partido  \\\n",
       "511103  PARTIDO SOCIALISTA BRASILEIRO              40           PSB   \n",
       "511104  PARTIDO SOCIALISTA BRASILEIRO              40           PSB   \n",
       "\n",
       "       descricao_cargo descricao_situacao_candidatura  \\\n",
       "511103      GOVERNADOR                           APTO   \n",
       "511104      GOVERNADOR                           APTO   \n",
       "\n",
       "       descricao_situacao_candidatura_superior                       nome  \\\n",
       "511103                                     NaN   MARCIO LUIZ FRANCA GOMES   \n",
       "511104                                     NaN  RODRIGO SOBRAL ROLLEMBERG   \n",
       "\n",
       "        ...  total_votos_to total_votos_pa  total_votos_ms  total_votos_pi  \\\n",
       "511103  ...               0              0               0               0   \n",
       "511104  ...               0              0               0               0   \n",
       "\n",
       "        total_votos_ma  total_votos_df  total_votos_es  total_votos_rr  \\\n",
       "511103               0               0               0               0   \n",
       "511104               0          451329               0               0   \n",
       "\n",
       "        total_votos_sc  total_votos  \n",
       "511103               0     20497480  \n",
       "511104               0       451329  \n",
       "\n",
       "[2 rows x 43 columns]"
      ]
     },
     "execution_count": 37,
     "metadata": {},
     "output_type": "execute_result"
    }
   ],
   "source": [
    "df_votacao.tail(2)"
   ]
  },
  {
   "cell_type": "code",
   "execution_count": 38,
   "metadata": {},
   "outputs": [
    {
     "data": {
      "text/plain": [
       "(511105, 43)"
      ]
     },
     "execution_count": 38,
     "metadata": {},
     "output_type": "execute_result"
    }
   ],
   "source": [
    "# Dimensoes do dataframe\n",
    "df_votacao.shape"
   ]
  },
  {
   "cell_type": "code",
   "execution_count": 39,
   "metadata": {},
   "outputs": [
    {
     "data": {
      "text/plain": [
       "Index(['ano_eleicao', 'descricao_eleicao', 'numero_turno', 'nome_partido',\n",
       "       'numero_partido', 'sigla_partido', 'descricao_cargo',\n",
       "       'descricao_situacao_candidatura',\n",
       "       'descricao_situacao_candidatura_superior', 'nome', 'nome_social',\n",
       "       'nome_urna', 'numero_sequencial', 'numero_urna', 'total_votos_ac',\n",
       "       'total_votos_al', 'total_votos_am', 'total_votos_ap', 'total_votos_ba',\n",
       "       'total_votos_rj', 'total_votos_sp', 'total_votos_ce', 'total_votos_ro',\n",
       "       'total_votos_se', 'total_votos_pr', 'total_votos_mg', 'total_votos_mt',\n",
       "       'total_votos_pe', 'total_votos_pb', 'total_votos_zz', 'total_votos_go',\n",
       "       'total_votos_rs', 'total_votos_rn', 'total_votos_to', 'total_votos_pa',\n",
       "       'total_votos_ms', 'total_votos_pi', 'total_votos_ma', 'total_votos_df',\n",
       "       'total_votos_es', 'total_votos_rr', 'total_votos_sc', 'total_votos'],\n",
       "      dtype='object')"
      ]
     },
     "execution_count": 39,
     "metadata": {},
     "output_type": "execute_result"
    }
   ],
   "source": [
    "# Quais são suas colunas?\n",
    "df_votacao.columns"
   ]
  },
  {
   "cell_type": "code",
   "execution_count": 40,
   "metadata": {},
   "outputs": [
    {
     "data": {
      "text/plain": [
       "['ano_eleicao',\n",
       " 'descricao_eleicao',\n",
       " 'numero_turno',\n",
       " 'nome_partido',\n",
       " 'numero_partido',\n",
       " 'sigla_partido',\n",
       " 'descricao_cargo',\n",
       " 'descricao_situacao_candidatura',\n",
       " 'descricao_situacao_candidatura_superior',\n",
       " 'nome',\n",
       " 'nome_social',\n",
       " 'nome_urna',\n",
       " 'numero_sequencial',\n",
       " 'numero_urna',\n",
       " 'total_votos_ac',\n",
       " 'total_votos_al',\n",
       " 'total_votos_am',\n",
       " 'total_votos_ap',\n",
       " 'total_votos_ba',\n",
       " 'total_votos_rj',\n",
       " 'total_votos_sp',\n",
       " 'total_votos_ce',\n",
       " 'total_votos_ro',\n",
       " 'total_votos_se',\n",
       " 'total_votos_pr',\n",
       " 'total_votos_mg',\n",
       " 'total_votos_mt',\n",
       " 'total_votos_pe',\n",
       " 'total_votos_pb',\n",
       " 'total_votos_zz',\n",
       " 'total_votos_go',\n",
       " 'total_votos_rs',\n",
       " 'total_votos_rn',\n",
       " 'total_votos_to',\n",
       " 'total_votos_pa',\n",
       " 'total_votos_ms',\n",
       " 'total_votos_pi',\n",
       " 'total_votos_ma',\n",
       " 'total_votos_df',\n",
       " 'total_votos_es',\n",
       " 'total_votos_rr',\n",
       " 'total_votos_sc',\n",
       " 'total_votos']"
      ]
     },
     "execution_count": 40,
     "metadata": {},
     "output_type": "execute_result"
    }
   ],
   "source": [
    "# Quais são suas colunas?\n",
    "df_votacao.columns.tolist()"
   ]
  },
  {
   "cell_type": "code",
   "execution_count": 41,
   "metadata": {},
   "outputs": [
    {
     "data": {
      "text/plain": [
       "list"
      ]
     },
     "execution_count": 41,
     "metadata": {},
     "output_type": "execute_result"
    }
   ],
   "source": [
    "type(df_votacao.columns.tolist())"
   ]
  },
  {
   "cell_type": "code",
   "execution_count": 42,
   "metadata": {},
   "outputs": [
    {
     "data": {
      "text/plain": [
       "RangeIndex(start=0, stop=511105, step=1)"
      ]
     },
     "execution_count": 42,
     "metadata": {},
     "output_type": "execute_result"
    }
   ],
   "source": [
    "df_votacao.index"
   ]
  },
  {
   "cell_type": "markdown",
   "metadata": {},
   "source": [
    "## Utilitários"
   ]
  },
  {
   "cell_type": "code",
   "execution_count": 43,
   "metadata": {},
   "outputs": [
    {
     "name": "stdout",
     "output_type": "stream",
     "text": [
      "<class 'pandas.core.frame.DataFrame'>\n",
      "RangeIndex: 511105 entries, 0 to 511104\n",
      "Data columns (total 43 columns):\n",
      " #   Column                                   Non-Null Count   Dtype  \n",
      "---  ------                                   --------------   -----  \n",
      " 0   ano_eleicao                              511105 non-null  int64  \n",
      " 1   descricao_eleicao                        511105 non-null  object \n",
      " 2   numero_turno                             511105 non-null  int64  \n",
      " 3   nome_partido                             511105 non-null  object \n",
      " 4   numero_partido                           511105 non-null  int64  \n",
      " 5   sigla_partido                            511105 non-null  object \n",
      " 6   descricao_cargo                          511105 non-null  object \n",
      " 7   descricao_situacao_candidatura           511105 non-null  object \n",
      " 8   descricao_situacao_candidatura_superior  484655 non-null  object \n",
      " 9   nome                                     511105 non-null  object \n",
      " 10  nome_social                              0 non-null       float64\n",
      " 11  nome_urna                                511095 non-null  object \n",
      " 12  numero_sequencial                        511105 non-null  int64  \n",
      " 13  numero_urna                              511105 non-null  int64  \n",
      " 14  total_votos_ac                           511105 non-null  int64  \n",
      " 15  total_votos_al                           511105 non-null  int64  \n",
      " 16  total_votos_am                           511105 non-null  int64  \n",
      " 17  total_votos_ap                           511105 non-null  int64  \n",
      " 18  total_votos_ba                           511105 non-null  int64  \n",
      " 19  total_votos_rj                           511105 non-null  int64  \n",
      " 20  total_votos_sp                           511105 non-null  int64  \n",
      " 21  total_votos_ce                           511105 non-null  int64  \n",
      " 22  total_votos_ro                           511105 non-null  int64  \n",
      " 23  total_votos_se                           511105 non-null  int64  \n",
      " 24  total_votos_pr                           511105 non-null  int64  \n",
      " 25  total_votos_mg                           511105 non-null  int64  \n",
      " 26  total_votos_mt                           511105 non-null  int64  \n",
      " 27  total_votos_pe                           511105 non-null  int64  \n",
      " 28  total_votos_pb                           511105 non-null  int64  \n",
      " 29  total_votos_zz                           511105 non-null  int64  \n",
      " 30  total_votos_go                           511105 non-null  int64  \n",
      " 31  total_votos_rs                           511105 non-null  int64  \n",
      " 32  total_votos_rn                           511105 non-null  int64  \n",
      " 33  total_votos_to                           511105 non-null  int64  \n",
      " 34  total_votos_pa                           511105 non-null  int64  \n",
      " 35  total_votos_ms                           511105 non-null  int64  \n",
      " 36  total_votos_pi                           511105 non-null  int64  \n",
      " 37  total_votos_ma                           511105 non-null  int64  \n",
      " 38  total_votos_df                           511105 non-null  int64  \n",
      " 39  total_votos_es                           511105 non-null  int64  \n",
      " 40  total_votos_rr                           511105 non-null  int64  \n",
      " 41  total_votos_sc                           511105 non-null  int64  \n",
      " 42  total_votos                              511105 non-null  int64  \n",
      "dtypes: float64(1), int64(34), object(8)\n",
      "memory usage: 167.7+ MB\n"
     ]
    }
   ],
   "source": [
    "df_votacao.info()\n"
   ]
  },
  {
   "cell_type": "code",
   "execution_count": 44,
   "metadata": {},
   "outputs": [
    {
     "data": {
      "text/plain": [
       "ano_eleicao                                  int64\n",
       "descricao_eleicao                           object\n",
       "numero_turno                                 int64\n",
       "nome_partido                                object\n",
       "numero_partido                               int64\n",
       "sigla_partido                               object\n",
       "descricao_cargo                             object\n",
       "descricao_situacao_candidatura              object\n",
       "descricao_situacao_candidatura_superior     object\n",
       "nome                                        object\n",
       "nome_social                                float64\n",
       "nome_urna                                   object\n",
       "numero_sequencial                            int64\n",
       "numero_urna                                  int64\n",
       "total_votos_ac                               int64\n",
       "total_votos_al                               int64\n",
       "total_votos_am                               int64\n",
       "total_votos_ap                               int64\n",
       "total_votos_ba                               int64\n",
       "total_votos_rj                               int64\n",
       "total_votos_sp                               int64\n",
       "total_votos_ce                               int64\n",
       "total_votos_ro                               int64\n",
       "total_votos_se                               int64\n",
       "total_votos_pr                               int64\n",
       "total_votos_mg                               int64\n",
       "total_votos_mt                               int64\n",
       "total_votos_pe                               int64\n",
       "total_votos_pb                               int64\n",
       "total_votos_zz                               int64\n",
       "total_votos_go                               int64\n",
       "total_votos_rs                               int64\n",
       "total_votos_rn                               int64\n",
       "total_votos_to                               int64\n",
       "total_votos_pa                               int64\n",
       "total_votos_ms                               int64\n",
       "total_votos_pi                               int64\n",
       "total_votos_ma                               int64\n",
       "total_votos_df                               int64\n",
       "total_votos_es                               int64\n",
       "total_votos_rr                               int64\n",
       "total_votos_sc                               int64\n",
       "total_votos                                  int64\n",
       "dtype: object"
      ]
     },
     "execution_count": 44,
     "metadata": {},
     "output_type": "execute_result"
    }
   ],
   "source": [
    "df_votacao.dtypes"
   ]
  },
  {
   "cell_type": "code",
   "execution_count": 45,
   "metadata": {},
   "outputs": [
    {
     "data": {
      "text/plain": [
       "Index(['ano_eleicao', 'descricao_eleicao', 'numero_turno', 'nome_partido',\n",
       "       'numero_partido', 'sigla_partido', 'descricao_cargo',\n",
       "       'descricao_situacao_candidatura',\n",
       "       'descricao_situacao_candidatura_superior', 'nome', 'nome_social',\n",
       "       'nome_urna', 'numero_sequencial', 'numero_urna', 'total_votos_ac',\n",
       "       'total_votos_al', 'total_votos_am', 'total_votos_ap', 'total_votos_ba',\n",
       "       'total_votos_rj', 'total_votos_sp', 'total_votos_ce', 'total_votos_ro',\n",
       "       'total_votos_se', 'total_votos_pr', 'total_votos_mg', 'total_votos_mt',\n",
       "       'total_votos_pe', 'total_votos_pb', 'total_votos_zz', 'total_votos_go',\n",
       "       'total_votos_rs', 'total_votos_rn', 'total_votos_to', 'total_votos_pa',\n",
       "       'total_votos_ms', 'total_votos_pi', 'total_votos_ma', 'total_votos_df',\n",
       "       'total_votos_es', 'total_votos_rr', 'total_votos_sc', 'total_votos'],\n",
       "      dtype='object')"
      ]
     },
     "execution_count": 45,
     "metadata": {},
     "output_type": "execute_result"
    }
   ],
   "source": [
    "df_votacao.dtypes.index"
   ]
  },
  {
   "cell_type": "code",
   "execution_count": 46,
   "metadata": {},
   "outputs": [
    {
     "data": {
      "text/plain": [
       "dtype('int64')"
      ]
     },
     "execution_count": 46,
     "metadata": {},
     "output_type": "execute_result"
    }
   ],
   "source": [
    "df_votacao.dtypes[\"ano_eleicao\"]"
   ]
  },
  {
   "cell_type": "markdown",
   "metadata": {},
   "source": [
    "## Navegação pelo DataFrame"
   ]
  },
  {
   "cell_type": "code",
   "execution_count": 47,
   "metadata": {},
   "outputs": [
    {
     "data": {
      "text/plain": [
       "str"
      ]
     },
     "execution_count": 47,
     "metadata": {},
     "output_type": "execute_result"
    }
   ],
   "source": [
    "type(df_votacao[\"nome\"][511100])"
   ]
  },
  {
   "cell_type": "code",
   "execution_count": 48,
   "metadata": {},
   "outputs": [
    {
     "data": {
      "text/plain": [
       "'MARCOS JOSE ROCHA DOS SANTOS'"
      ]
     },
     "execution_count": 48,
     "metadata": {},
     "output_type": "execute_result"
    }
   ],
   "source": [
    "df_votacao[\"nome\"][511100] #coluna, indice"
   ]
  },
  {
   "cell_type": "code",
   "execution_count": 49,
   "metadata": {},
   "outputs": [
    {
     "data": {
      "text/plain": [
       "0                   AMAZONINO ARMANDO MENDES\n",
       "1              CARLOS EDUARDO DE SOUZA BRAGA\n",
       "2                      JOSE RICARDO WENDLING\n",
       "3         MAURICIO WILKER DE AZEVEDO BARRETO\n",
       "4               JADELVONE NOGUEIRA DELTRUDES\n",
       "                         ...                \n",
       "511100          MARCOS JOSE ROCHA DOS SANTOS\n",
       "511101        ANTONIO CARLOS VALADARES FILHO\n",
       "511102     JOAO ALBERTO RODRIGUES CAPIBERIBE\n",
       "511103              MARCIO LUIZ FRANCA GOMES\n",
       "511104             RODRIGO SOBRAL ROLLEMBERG\n",
       "Name: nome, Length: 511105, dtype: object"
      ]
     },
     "execution_count": 49,
     "metadata": {},
     "output_type": "execute_result"
    }
   ],
   "source": [
    "df_votacao[\"nome\"]"
   ]
  },
  {
   "cell_type": "code",
   "execution_count": 50,
   "metadata": {},
   "outputs": [
    {
     "data": {
      "text/plain": [
       "0         False\n",
       "1         False\n",
       "2         False\n",
       "3         False\n",
       "4         False\n",
       "          ...  \n",
       "511100     True\n",
       "511101    False\n",
       "511102    False\n",
       "511103    False\n",
       "511104    False\n",
       "Name: nome, Length: 511105, dtype: bool"
      ]
     },
     "execution_count": 50,
     "metadata": {},
     "output_type": "execute_result"
    }
   ],
   "source": [
    "df_votacao[\"nome\"] == 'MARCOS JOSE ROCHA DOS SANTOS'"
   ]
  },
  {
   "cell_type": "code",
   "execution_count": 51,
   "metadata": {},
   "outputs": [
    {
     "ename": "NameError",
     "evalue": "name 'df' is not defined",
     "output_type": "error",
     "traceback": [
      "\u001b[1;31m---------------------------------------------------------------------------\u001b[0m",
      "\u001b[1;31mNameError\u001b[0m                                 Traceback (most recent call last)",
      "\u001b[1;32m<ipython-input-51-b84e9b3ee6f4>\u001b[0m in \u001b[0;36m<module>\u001b[1;34m\u001b[0m\n\u001b[1;32m----> 1\u001b[1;33m \u001b[0mdf\u001b[0m\u001b[1;33m[\u001b[0m\u001b[0mcoluna\u001b[0m\u001b[1;33m]\u001b[0m\u001b[1;33m[\u001b[0m\u001b[0mlinha\u001b[0m\u001b[1;33m]\u001b[0m\u001b[1;33m\u001b[0m\u001b[1;33m\u001b[0m\u001b[0m\n\u001b[0m",
      "\u001b[1;31mNameError\u001b[0m: name 'df' is not defined"
     ]
    }
   ],
   "source": [
    "df[coluna][linha]"
   ]
  },
  {
   "cell_type": "code",
   "execution_count": 52,
   "metadata": {},
   "outputs": [
    {
     "data": {
      "text/plain": [
       "['ano_eleicao',\n",
       " 'descricao_eleicao',\n",
       " 'numero_turno',\n",
       " 'nome_partido',\n",
       " 'numero_partido',\n",
       " 'sigla_partido',\n",
       " 'descricao_cargo',\n",
       " 'descricao_situacao_candidatura',\n",
       " 'descricao_situacao_candidatura_superior',\n",
       " 'nome',\n",
       " 'nome_social',\n",
       " 'nome_urna',\n",
       " 'numero_sequencial',\n",
       " 'numero_urna',\n",
       " 'total_votos_ac',\n",
       " 'total_votos_al',\n",
       " 'total_votos_am',\n",
       " 'total_votos_ap',\n",
       " 'total_votos_ba',\n",
       " 'total_votos_rj',\n",
       " 'total_votos_sp',\n",
       " 'total_votos_ce',\n",
       " 'total_votos_ro',\n",
       " 'total_votos_se',\n",
       " 'total_votos_pr',\n",
       " 'total_votos_mg',\n",
       " 'total_votos_mt',\n",
       " 'total_votos_pe',\n",
       " 'total_votos_pb',\n",
       " 'total_votos_zz',\n",
       " 'total_votos_go',\n",
       " 'total_votos_rs',\n",
       " 'total_votos_rn',\n",
       " 'total_votos_to',\n",
       " 'total_votos_pa',\n",
       " 'total_votos_ms',\n",
       " 'total_votos_pi',\n",
       " 'total_votos_ma',\n",
       " 'total_votos_df',\n",
       " 'total_votos_es',\n",
       " 'total_votos_rr',\n",
       " 'total_votos_sc',\n",
       " 'total_votos']"
      ]
     },
     "execution_count": 52,
     "metadata": {},
     "output_type": "execute_result"
    }
   ],
   "source": [
    "df_votacao.columns.tolist()"
   ]
  },
  {
   "cell_type": "code",
   "execution_count": 53,
   "metadata": {},
   "outputs": [
    {
     "data": {
      "text/plain": [
       "'PPL'"
      ]
     },
     "execution_count": 53,
     "metadata": {},
     "output_type": "execute_result"
    }
   ],
   "source": [
    "df_votacao[\"sigla_partido\"][4] #navegando em colunas"
   ]
  },
  {
   "cell_type": "code",
   "execution_count": 54,
   "metadata": {},
   "outputs": [
    {
     "data": {
      "text/plain": [
       "ano_eleicao                                                             2014\n",
       "descricao_eleicao                          ELEICAO SUPLEMENTAR GOVERNADOR AM\n",
       "numero_turno                                                               1\n",
       "nome_partido                                 PARTIDO DEMOCRATICO TRABALHISTA\n",
       "numero_partido                                                            12\n",
       "sigla_partido                                                            PDT\n",
       "descricao_cargo                                                   GOVERNADOR\n",
       "descricao_situacao_candidatura                                      DEFERIDO\n",
       "descricao_situacao_candidatura_superior                                 APTO\n",
       "nome                                                AMAZONINO ARMANDO MENDES\n",
       "nome_social                                                              NaN\n",
       "nome_urna                                                   AMAZONINO MENDES\n",
       "numero_sequencial                                                40000012067\n",
       "numero_urna                                                               12\n",
       "total_votos_ac                                                             0\n",
       "total_votos_al                                                             0\n",
       "total_votos_am                                                        577397\n",
       "total_votos_ap                                                             0\n",
       "total_votos_ba                                                             0\n",
       "total_votos_rj                                                             0\n",
       "total_votos_sp                                                             0\n",
       "total_votos_ce                                                             0\n",
       "total_votos_ro                                                             0\n",
       "total_votos_se                                                             0\n",
       "total_votos_pr                                                             0\n",
       "total_votos_mg                                                             0\n",
       "total_votos_mt                                                             0\n",
       "total_votos_pe                                                             0\n",
       "total_votos_pb                                                             0\n",
       "total_votos_zz                                                             0\n",
       "total_votos_go                                                             0\n",
       "total_votos_rs                                                             0\n",
       "total_votos_rn                                                             0\n",
       "total_votos_to                                                             0\n",
       "total_votos_pa                                                             0\n",
       "total_votos_ms                                                             0\n",
       "total_votos_pi                                                             0\n",
       "total_votos_ma                                                             0\n",
       "total_votos_df                                                             0\n",
       "total_votos_es                                                             0\n",
       "total_votos_rr                                                             0\n",
       "total_votos_sc                                                             0\n",
       "total_votos                                                           577397\n",
       "Name: 0, dtype: object"
      ]
     },
     "execution_count": 54,
     "metadata": {},
     "output_type": "execute_result"
    }
   ],
   "source": [
    "df_votacao.iloc[0]"
   ]
  },
  {
   "cell_type": "code",
   "execution_count": 55,
   "metadata": {},
   "outputs": [
    {
     "data": {
      "text/plain": [
       "ano_eleicao                                                              2014\n",
       "descricao_eleicao                           ELEICAO SUPLEMENTAR GOVERNADOR AM\n",
       "numero_turno                                                                1\n",
       "nome_partido                               PARTIDO HUMANISTA DA SOLIDARIEDADE\n",
       "numero_partido                                                             31\n",
       "sigla_partido                                                             PHS\n",
       "descricao_cargo                                                    GOVERNADOR\n",
       "descricao_situacao_candidatura                                       DEFERIDO\n",
       "descricao_situacao_candidatura_superior                                  APTO\n",
       "nome                                       MAURICIO WILKER DE AZEVEDO BARRETO\n",
       "nome_social                                                               NaN\n",
       "nome_urna                                                      WILKER BARRETO\n",
       "numero_sequencial                                                 40000012061\n",
       "numero_urna                                                                31\n",
       "total_votos_ac                                                              0\n",
       "total_votos_al                                                              0\n",
       "total_votos_am                                                          22623\n",
       "total_votos_ap                                                              0\n",
       "total_votos_ba                                                              0\n",
       "total_votos_rj                                                              0\n",
       "total_votos_sp                                                              0\n",
       "total_votos_ce                                                              0\n",
       "total_votos_ro                                                              0\n",
       "total_votos_se                                                              0\n",
       "total_votos_pr                                                              0\n",
       "total_votos_mg                                                              0\n",
       "total_votos_mt                                                              0\n",
       "total_votos_pe                                                              0\n",
       "total_votos_pb                                                              0\n",
       "total_votos_zz                                                              0\n",
       "total_votos_go                                                              0\n",
       "total_votos_rs                                                              0\n",
       "total_votos_rn                                                              0\n",
       "total_votos_to                                                              0\n",
       "total_votos_pa                                                              0\n",
       "total_votos_ms                                                              0\n",
       "total_votos_pi                                                              0\n",
       "total_votos_ma                                                              0\n",
       "total_votos_df                                                              0\n",
       "total_votos_es                                                              0\n",
       "total_votos_rr                                                              0\n",
       "total_votos_sc                                                              0\n",
       "total_votos                                                             22623\n",
       "Name: 3, dtype: object"
      ]
     },
     "execution_count": 55,
     "metadata": {},
     "output_type": "execute_result"
    }
   ],
   "source": [
    "df_votacao.iloc[3] #navegando em indices"
   ]
  },
  {
   "cell_type": "code",
   "execution_count": 56,
   "metadata": {},
   "outputs": [
    {
     "data": {
      "text/plain": [
       "'MAURICIO WILKER DE AZEVEDO BARRETO'"
      ]
     },
     "execution_count": 56,
     "metadata": {},
     "output_type": "execute_result"
    }
   ],
   "source": [
    "df_votacao.iloc[3][\"nome\"]"
   ]
  },
  {
   "cell_type": "code",
   "execution_count": 57,
   "metadata": {},
   "outputs": [
    {
     "data": {
      "text/plain": [
       "'MAURICIO WILKER DE AZEVEDO BARRETO'"
      ]
     },
     "execution_count": 57,
     "metadata": {},
     "output_type": "execute_result"
    }
   ],
   "source": [
    "df_votacao[\"nome\"][3]"
   ]
  },
  {
   "cell_type": "markdown",
   "metadata": {},
   "source": [
    "## Filtros\n",
    "\n",
    "* Comparações lógicas de ==, >, >=, <, <=, !=\n",
    "* isna()\n",
    "* isin()"
   ]
  },
  {
   "cell_type": "code",
   "execution_count": 58,
   "metadata": {},
   "outputs": [],
   "source": [
    "filtro = [False, True, True, True]"
   ]
  },
  {
   "cell_type": "code",
   "execution_count": 59,
   "metadata": {},
   "outputs": [
    {
     "data": {
      "text/html": [
       "<div>\n",
       "<style scoped>\n",
       "    .dataframe tbody tr th:only-of-type {\n",
       "        vertical-align: middle;\n",
       "    }\n",
       "\n",
       "    .dataframe tbody tr th {\n",
       "        vertical-align: top;\n",
       "    }\n",
       "\n",
       "    .dataframe thead th {\n",
       "        text-align: right;\n",
       "    }\n",
       "</style>\n",
       "<table border=\"1\" class=\"dataframe\">\n",
       "  <thead>\n",
       "    <tr style=\"text-align: right;\">\n",
       "      <th></th>\n",
       "      <th>nome</th>\n",
       "      <th>sobrenome</th>\n",
       "      <th>idade</th>\n",
       "    </tr>\n",
       "  </thead>\n",
       "  <tbody>\n",
       "    <tr>\n",
       "      <th>1</th>\n",
       "      <td>Nah</td>\n",
       "      <td>Gironde</td>\n",
       "      <td>30</td>\n",
       "    </tr>\n",
       "    <tr>\n",
       "      <th>2</th>\n",
       "      <td>Lara</td>\n",
       "      <td>Calvo</td>\n",
       "      <td>27</td>\n",
       "    </tr>\n",
       "    <tr>\n",
       "      <th>3</th>\n",
       "      <td>Ju</td>\n",
       "      <td>Duc</td>\n",
       "      <td>26</td>\n",
       "    </tr>\n",
       "  </tbody>\n",
       "</table>\n",
       "</div>"
      ],
      "text/plain": [
       "   nome sobrenome  idade\n",
       "1   Nah   Gironde     30\n",
       "2  Lara     Calvo     27\n",
       "3    Ju       Duc     26"
      ]
     },
     "execution_count": 59,
     "metadata": {},
     "output_type": "execute_result"
    }
   ],
   "source": [
    "df_dados [filtro] "
   ]
  },
  {
   "cell_type": "code",
   "execution_count": 60,
   "metadata": {},
   "outputs": [
    {
     "data": {
      "text/html": [
       "<div>\n",
       "<style scoped>\n",
       "    .dataframe tbody tr th:only-of-type {\n",
       "        vertical-align: middle;\n",
       "    }\n",
       "\n",
       "    .dataframe tbody tr th {\n",
       "        vertical-align: top;\n",
       "    }\n",
       "\n",
       "    .dataframe thead th {\n",
       "        text-align: right;\n",
       "    }\n",
       "</style>\n",
       "<table border=\"1\" class=\"dataframe\">\n",
       "  <thead>\n",
       "    <tr style=\"text-align: right;\">\n",
       "      <th></th>\n",
       "      <th>nome</th>\n",
       "      <th>sobrenome</th>\n",
       "      <th>idade</th>\n",
       "    </tr>\n",
       "  </thead>\n",
       "  <tbody>\n",
       "    <tr>\n",
       "      <th>0</th>\n",
       "      <td>Téo</td>\n",
       "      <td>Calvo</td>\n",
       "      <td>28</td>\n",
       "    </tr>\n",
       "    <tr>\n",
       "      <th>1</th>\n",
       "      <td>Nah</td>\n",
       "      <td>Gironde</td>\n",
       "      <td>30</td>\n",
       "    </tr>\n",
       "  </tbody>\n",
       "</table>\n",
       "</div>"
      ],
      "text/plain": [
       "  nome sobrenome  idade\n",
       "0  Téo     Calvo     28\n",
       "1  Nah   Gironde     30"
      ]
     },
     "execution_count": 60,
     "metadata": {},
     "output_type": "execute_result"
    }
   ],
   "source": [
    "filtro_idade = df_dados [\"idade\"] >= 28 \n",
    "df_dados [filtro_idade]"
   ]
  },
  {
   "cell_type": "code",
   "execution_count": 61,
   "metadata": {},
   "outputs": [
    {
     "data": {
      "text/plain": [
       "0    28\n",
       "1    30\n",
       "Name: idade, dtype: int64"
      ]
     },
     "execution_count": 61,
     "metadata": {},
     "output_type": "execute_result"
    }
   ],
   "source": [
    "df_dados [filtro_idade][\"idade\"]"
   ]
  },
  {
   "cell_type": "code",
   "execution_count": 62,
   "metadata": {},
   "outputs": [
    {
     "data": {
      "text/plain": [
       "0    Téo\n",
       "1    Nah\n",
       "Name: nome, dtype: object"
      ]
     },
     "execution_count": 62,
     "metadata": {},
     "output_type": "execute_result"
    }
   ],
   "source": [
    "df_dados [filtro_idade][\"nome\"]"
   ]
  },
  {
   "cell_type": "code",
   "execution_count": null,
   "metadata": {},
   "outputs": [],
   "source": [
    "df_dados [filtro_idade][\"nome\"].tolist()"
   ]
  },
  {
   "cell_type": "code",
   "execution_count": null,
   "metadata": {},
   "outputs": [],
   "source": [
    "df_dados [df_dados [\"sobrenome\"] == \"Calvo\"]"
   ]
  },
  {
   "cell_type": "code",
   "execution_count": null,
   "metadata": {},
   "outputs": [],
   "source": [
    "df_calvo = df_dados [df_dados [\"sobrenome\"] == \"Calvo\"].copy()"
   ]
  },
  {
   "cell_type": "code",
   "execution_count": null,
   "metadata": {},
   "outputs": [],
   "source": [
    "df_calvo"
   ]
  },
  {
   "cell_type": "code",
   "execution_count": null,
   "metadata": {},
   "outputs": [],
   "source": [
    "#ah tá, entendi a pergunta...\n",
    "# acho que o iloc é mais pra navegar pelos índices ; do dataframe usando os nomes das colunas/indices"
   ]
  },
  {
   "cell_type": "code",
   "execution_count": null,
   "metadata": {},
   "outputs": [],
   "source": [
    "df_calvo [\"genero\"] = [\"M\", \"F\"]"
   ]
  },
  {
   "cell_type": "code",
   "execution_count": null,
   "metadata": {},
   "outputs": [],
   "source": [
    "df_calvo"
   ]
  },
  {
   "cell_type": "code",
   "execution_count": null,
   "metadata": {},
   "outputs": [],
   "source": [
    "a = [1,2,3]\n",
    "#b = a\n",
    "b = a.copy()"
   ]
  },
  {
   "cell_type": "code",
   "execution_count": null,
   "metadata": {},
   "outputs": [],
   "source": [
    "b.append(4)"
   ]
  },
  {
   "cell_type": "code",
   "execution_count": null,
   "metadata": {},
   "outputs": [],
   "source": [
    "print(b)"
   ]
  },
  {
   "cell_type": "code",
   "execution_count": null,
   "metadata": {},
   "outputs": [],
   "source": [
    "print(a)"
   ]
  },
  {
   "cell_type": "code",
   "execution_count": null,
   "metadata": {},
   "outputs": [],
   "source": [
    "df_new = df[ filtro ]"
   ]
  },
  {
   "cell_type": "markdown",
   "metadata": {},
   "source": [
    "###  Conhecendo Where"
   ]
  },
  {
   "cell_type": "code",
   "execution_count": null,
   "metadata": {},
   "outputs": [],
   "source": [
    "filtro_calvo_28 = ( df_dados [\"sobrenome\"] == \"Calvo\") & (df_dados [\"idade\"] >= 28)"
   ]
  },
  {
   "cell_type": "code",
   "execution_count": null,
   "metadata": {},
   "outputs": [],
   "source": [
    "df_calvo_28 = df_dados [filtro_calvo_28].copy()\n",
    "df_calvo_28"
   ]
  },
  {
   "cell_type": "code",
   "execution_count": null,
   "metadata": {},
   "outputs": [],
   "source": [
    "df_dados.where (filtro_calvo_28).dropna(how=\"all\")"
   ]
  },
  {
   "cell_type": "code",
   "execution_count": null,
   "metadata": {},
   "outputs": [],
   "source": [
    "# dropa as colunas que forem nulas\n",
    "df_dados.where (filtro).dropna(how=\"all\") #isso já retorna um dataframe novo, ele já faz um 'copy' "
   ]
  },
  {
   "cell_type": "code",
   "execution_count": null,
   "metadata": {},
   "outputs": [],
   "source": [
    "df_dados.where (filtro_calvo_28).isna()"
   ]
  },
  {
   "cell_type": "code",
   "execution_count": null,
   "metadata": {},
   "outputs": [],
   "source": []
  },
  {
   "cell_type": "code",
   "execution_count": null,
   "metadata": {},
   "outputs": [],
   "source": []
  },
  {
   "cell_type": "code",
   "execution_count": null,
   "metadata": {},
   "outputs": [],
   "source": []
  },
  {
   "cell_type": "markdown",
   "metadata": {},
   "source": [
    "# Como fica nos políticos?"
   ]
  },
  {
   "cell_type": "code",
   "execution_count": null,
   "metadata": {},
   "outputs": [],
   "source": [
    "df_votacao [df_votacao[\"sigla_partido\"] == \"PSOL\"]"
   ]
  },
  {
   "cell_type": "code",
   "execution_count": null,
   "metadata": {},
   "outputs": [],
   "source": [
    " filtro_sen_psol = ( (df_votacao[\"sigla_partido\"] == \"PSOL\") &\n",
    "                    (df_votacao[\"descricao_cargo\"] == \"SENADOR\") &\n",
    "                    (df_votacao[\"descricao_situacao_candidatura\"] == \"APTO\") )\n",
    "df_votacao[filtro_sen_psol]\n"
   ]
  },
  {
   "cell_type": "code",
   "execution_count": null,
   "metadata": {},
   "outputs": [],
   "source": [
    "colunas_interesse  = [\"nome\", \"sigla_partido\"]\n",
    "df_votacao[colunas_interesse]"
   ]
  },
  {
   "cell_type": "code",
   "execution_count": null,
   "metadata": {},
   "outputs": [],
   "source": [
    "#exemplo de na\n",
    "import numpy as np\n",
    "df_tmp = pd.DataFrame(\n",
    "    { \"nome\": [\"Téo\", \"Nah\", np.nan],\n",
    "     \"idade\" : [28, 30,31]}\n",
    ")\n",
    "df_tmp [df_tmp [\"nome\"].isna()]"
   ]
  },
  {
   "cell_type": "markdown",
   "metadata": {},
   "source": [
    "## Renomeando Colunas"
   ]
  },
  {
   "cell_type": "code",
   "execution_count": null,
   "metadata": {},
   "outputs": [],
   "source": [
    "dados = { \"nome\":[\"Téo\", \"Nah\", \"Lara\", \"Ju\"],\n",
    "         \"sobrenome\":[\"Calvo\", \"Gironde\", \"Calvo\", \"Duc\"],\n",
    "         \"idade\":[28,30,27, 26], }\n",
    "df_dados = pd.DataFrame(dados)\n",
    "\n",
    "#criando uma coluna nova\n",
    "df_dados [\"Genero\"] = [\"M\", \"F\", \"F\", \"F\"]\n"
   ]
  },
  {
   "cell_type": "code",
   "execution_count": null,
   "metadata": {},
   "outputs": [],
   "source": [
    "df_dados"
   ]
  },
  {
   "cell_type": "code",
   "execution_count": null,
   "metadata": {},
   "outputs": [],
   "source": [
    "#executar um comando apenas\n",
    "\n",
    "df_dados = df_dados.rename(columns={\"Genero\":\"genero\"}, inplace=False) #atribui ao dataframe, true atribui\n",
    "\n",
    "#df_dados.rename(columns={\"Genero\":\"genero\"}, inplace=False) #atribui ao dataframe, true atribui"
   ]
  },
  {
   "cell_type": "code",
   "execution_count": null,
   "metadata": {},
   "outputs": [],
   "source": [
    "df_dados"
   ]
  },
  {
   "cell_type": "code",
   "execution_count": null,
   "metadata": {},
   "outputs": [],
   "source": [
    "df_dados[\"colunaErro\"] = False"
   ]
  },
  {
   "cell_type": "code",
   "execution_count": null,
   "metadata": {},
   "outputs": [],
   "source": [
    "df_dados"
   ]
  },
  {
   "cell_type": "code",
   "execution_count": null,
   "metadata": {},
   "outputs": [],
   "source": [
    "del df_dados[\"colunaErro\"] "
   ]
  },
  {
   "cell_type": "code",
   "execution_count": null,
   "metadata": {},
   "outputs": [],
   "source": [
    "df_dados"
   ]
  },
  {
   "cell_type": "markdown",
   "metadata": {},
   "source": [
    "### Unique e Nunique"
   ]
  },
  {
   "cell_type": "code",
   "execution_count": null,
   "metadata": {},
   "outputs": [],
   "source": [
    "df_votacao[\"sigla_partido\"].unique() #lista todos os partidos"
   ]
  },
  {
   "cell_type": "code",
   "execution_count": null,
   "metadata": {},
   "outputs": [],
   "source": [
    "df_votacao[\"sigla_partido\"].nunique() "
   ]
  },
  {
   "cell_type": "code",
   "execution_count": null,
   "metadata": {},
   "outputs": [],
   "source": [
    "df_votacao[\"nome\"].nunique() "
   ]
  },
  {
   "cell_type": "code",
   "execution_count": null,
   "metadata": {},
   "outputs": [],
   "source": [
    "df_votacao[\"ano_eleicao\"].unique() "
   ]
  },
  {
   "cell_type": "code",
   "execution_count": null,
   "metadata": {},
   "outputs": [],
   "source": [
    "df_vot_2018 = df_votacao[df_votacao[\"ano_eleicao\"] == 2018]\n",
    "df_vot_2018\n",
    "df_vot_2018.columns.tolist()\n",
    "print (df_vot_2018 [\"numero_sequencial\"].nunique(), \"candidatos distintos em 2018\")\n",
    "print (df_vot_2018 [\"nome\"].nunique(), \"nomes distintos em 2018\")\n",
    "\n",
    "print (df_vot_2018.shape[0], \"linhas na base.\")\n",
    "\n",
    "\n",
    "print (df_vot_2018 [df_vot_2018 [\"numero_turno\"] == 1][\"numero_sequencial\"].nunique(), \"nomes distintos em 2018\")\n",
    "print (df_vot_2018 [df_vot_2018 [\"numero_turno\"] == 2][\"numero_sequencial\"].nunique(), \"nomes distintos em 2018\")\n",
    "\n",
    "df_vot_2018 [df_vot_2018 [\"numero_turno\"] == 2][\"nome\"]\n"
   ]
  },
  {
   "cell_type": "code",
   "execution_count": null,
   "metadata": {},
   "outputs": [],
   "source": [
    "df_vot_2018.shape[0]"
   ]
  },
  {
   "cell_type": "code",
   "execution_count": null,
   "metadata": {},
   "outputs": [],
   "source": [
    "df_vot_2018 [df_vot_2018 [\"numero_turno\"] == 1]"
   ]
  },
  {
   "cell_type": "code",
   "execution_count": null,
   "metadata": {},
   "outputs": [],
   "source": []
  },
  {
   "cell_type": "markdown",
   "metadata": {},
   "source": [
    "## Transformações, conversões e remoções\n",
    "\n",
    "* Operações com escalares\n",
    "* Operações entre colunas\n",
    "* apply()\n",
    "* funções anônimas"
   ]
  },
  {
   "cell_type": "code",
   "execution_count": null,
   "metadata": {},
   "outputs": [],
   "source": [
    "df_votacao.head()"
   ]
  },
  {
   "cell_type": "code",
   "execution_count": null,
   "metadata": {},
   "outputs": [],
   "source": [
    "import numpy as np\n",
    "df_votacao [\"log_total_votos\"] = np.log1p (df_votacao[\"total_votos\"])\n",
    "df_votacao [\"votos_por_mil\"] = df_votacao [\"total_votos\"] / 1000\n",
    "df_votacao [\"sem_sentido\"] = df_votacao [\"votos_por_mil\"]  * df_votacao [\"log_total_votos\"]\n"
   ]
  },
  {
   "cell_type": "code",
   "execution_count": null,
   "metadata": {},
   "outputs": [],
   "source": [
    "df_votacao"
   ]
  },
  {
   "cell_type": "code",
   "execution_count": null,
   "metadata": {},
   "outputs": [],
   "source": [
    "#funcao (nao tem nada a ver com o pandas)\n",
    "def sigla_to_genero (x):\n",
    "    if x == \"M\":\n",
    "        return \"Masculino\"\n",
    "    elif x == \"F\":\n",
    "        return \"Feminino\"\n",
    "    else:\n",
    "        return np.nan\n",
    "\n",
    "sigla_to_genero (\"M\")"
   ]
  },
  {
   "cell_type": "code",
   "execution_count": null,
   "metadata": {},
   "outputs": [],
   "source": [
    "df_dados"
   ]
  },
  {
   "cell_type": "code",
   "execution_count": null,
   "metadata": {},
   "outputs": [],
   "source": [
    "df_dados[\"genero_dsc\"] = df_dados[\"genero\"].apply( sigla_to_genero)"
   ]
  },
  {
   "cell_type": "code",
   "execution_count": null,
   "metadata": {},
   "outputs": [],
   "source": [
    "df_dados"
   ]
  },
  {
   "cell_type": "code",
   "execution_count": null,
   "metadata": {},
   "outputs": [],
   "source": []
  },
  {
   "cell_type": "code",
   "execution_count": null,
   "metadata": {},
   "outputs": [],
   "source": [
    "nome = \"Teo Calvo\""
   ]
  },
  {
   "cell_type": "code",
   "execution_count": null,
   "metadata": {},
   "outputs": [],
   "source": [
    "\"Calvo\" in nome"
   ]
  },
  {
   "cell_type": "code",
   "execution_count": null,
   "metadata": {},
   "outputs": [],
   "source": [
    "def is_bolsonaro(x):\n",
    "    return \"BOLSONARO\" in x"
   ]
  },
  {
   "cell_type": "code",
   "execution_count": null,
   "metadata": {},
   "outputs": [],
   "source": [
    "is_bolsonaro (\"EDUARDO BOLSONARO\")"
   ]
  },
  {
   "cell_type": "code",
   "execution_count": null,
   "metadata": {},
   "outputs": [],
   "source": [
    "df_votacao [df_votacao[\"nome\"].apply(is_bolsonaro)]"
   ]
  },
  {
   "cell_type": "code",
   "execution_count": null,
   "metadata": {},
   "outputs": [],
   "source": [
    "def like (x, like_what = \"\"):\n",
    "    return like_what in x"
   ]
  },
  {
   "cell_type": "code",
   "execution_count": null,
   "metadata": {},
   "outputs": [],
   "source": [
    "df_votacao [df_votacao [\"nome\"].apply (like, args=[\"SILVA\"])]\n",
    "like (\"Nah Ataide\", like_what=\"Calvo\")\n"
   ]
  },
  {
   "cell_type": "code",
   "execution_count": null,
   "metadata": {},
   "outputs": [],
   "source": [
    "#df_votacao [df_votacao [\"nome\"].apply (like, args=[\"HADDAD\"])]\n",
    "df_votacao [df_votacao [\"nome\"].apply (like, args=[\"BOLSONARO\"])]"
   ]
  },
  {
   "cell_type": "code",
   "execution_count": null,
   "metadata": {},
   "outputs": [],
   "source": [
    "#funcao anonima\n",
    "df_votacao [df_votacao[\"nome\"].apply ( lambda x :  \"HADDAD\" in x)]\n",
    "df_votacao [df_votacao[\"nome\"].apply ( lambda x :  \"BOLSONARO\" in x)]\n",
    "df_votacao [df_votacao[\"nome\"].apply ( lambda x :  \"BOLSONARO\" in x or \"HADDAD\" in x)]"
   ]
  },
  {
   "cell_type": "code",
   "execution_count": null,
   "metadata": {},
   "outputs": [],
   "source": [
    "\"Téo Balbino Calvo\".split(\" \")[0]. title() #title deixa a primeira letra maiscula"
   ]
  },
  {
   "cell_type": "code",
   "execution_count": null,
   "metadata": {},
   "outputs": [],
   "source": [
    "\"Téo Balbino Calvo\".split(\" \")"
   ]
  },
  {
   "cell_type": "code",
   "execution_count": null,
   "metadata": {},
   "outputs": [],
   "source": [
    "df_votacao[\"nome\"].apply (lambda x: x.split(\" \")[0]. title() )"
   ]
  },
  {
   "cell_type": "code",
   "execution_count": null,
   "metadata": {},
   "outputs": [],
   "source": [
    "\"eu amo o meu namorado\".title()"
   ]
  },
  {
   "cell_type": "code",
   "execution_count": null,
   "metadata": {},
   "outputs": [],
   "source": [
    "df_votacao[\"primeiro_nome\"] = df_votacao[\"nome\"].apply (lambda x: x.split(\" \")[0]. title() )"
   ]
  },
  {
   "cell_type": "code",
   "execution_count": null,
   "metadata": {},
   "outputs": [],
   "source": [
    "df_votacao"
   ]
  },
  {
   "cell_type": "code",
   "execution_count": null,
   "metadata": {},
   "outputs": [],
   "source": []
  },
  {
   "cell_type": "markdown",
   "metadata": {},
   "source": [
    "## Group by & Sort by\n",
    "\n",
    "* Operações Estatísticas: sum, mean, count, std...\n",
    "* Agrupando por chave"
   ]
  },
  {
   "cell_type": "code",
   "execution_count": null,
   "metadata": {},
   "outputs": [],
   "source": [
    "df.groupby()"
   ]
  },
  {
   "cell_type": "code",
   "execution_count": null,
   "metadata": {},
   "outputs": [],
   "source": [
    "#tabela de frequencia\n",
    "pd.value_counts( df_dados [\"sobrenome\"]) #quantas pessoas com o mesmo sobrenome\n",
    "#df_dados[\"sobrenome\"].value_counts() #vale também"
   ]
  },
  {
   "cell_type": "code",
   "execution_count": null,
   "metadata": {},
   "outputs": [],
   "source": [
    "print(df_dados[\"idade\"].mean(), \"Media\") # Media \n",
    "print(df_dados[\"idade\"].sum(), \"Soma\") # Soma\n",
    "print(df_dados[\"idade\"].std(), \"Desvio padrão\") # Desvio padrão\n",
    "print()\n",
    "print(df_dados[\"idade\"].min(), \"min\") # min\n",
    "print (df_dados[\"idade\"].max(), \"max\") # max\n",
    "print()\n",
    "print(df_dados[\"idade\"].describe(), \"Sumário\") # Summario"
   ]
  },
  {
   "cell_type": "code",
   "execution_count": null,
   "metadata": {},
   "outputs": [],
   "source": [
    "#fill na para converter NA em \"valor ausente\""
   ]
  },
  {
   "cell_type": "code",
   "execution_count": null,
   "metadata": {},
   "outputs": [],
   "source": [
    "df_dados.groupby( [\"sobrenome\"] ) [\"idade\"].mean()"
   ]
  },
  {
   "cell_type": "code",
   "execution_count": null,
   "metadata": {},
   "outputs": [],
   "source": [
    "df_dados.groupby( [\"sobrenome\"] ) [\"idade\"].describe()"
   ]
  },
  {
   "cell_type": "code",
   "execution_count": null,
   "metadata": {},
   "outputs": [],
   "source": [
    "df_dados.groupby ([\"sobrenome\"]).agg ( {\"idade\": [\"mean\", \"sum\"]} )"
   ]
  },
  {
   "cell_type": "code",
   "execution_count": null,
   "metadata": {},
   "outputs": [],
   "source": [
    "df_dados.groupby ([\"sobrenome\"]).agg ( {\"idade\": [\"sum\", \"describe\"]} )"
   ]
  },
  {
   "cell_type": "code",
   "execution_count": null,
   "metadata": {},
   "outputs": [],
   "source": [
    "#multi index column - pesquisar "
   ]
  },
  {
   "cell_type": "markdown",
   "metadata": {},
   "source": [
    "# Quanto cada partido teve de votos totais em cada ano de eleicao em cada turno?"
   ]
  },
  {
   "cell_type": "code",
   "execution_count": null,
   "metadata": {},
   "outputs": [],
   "source": [
    "agg_columns = [ \"ano_eleicao\", \"numero_turno\", \"sigla_partido\"]\n",
    "df_group = df_votacao.groupby (agg_columns) [\"total_votos\"].sum().head(50)"
   ]
  },
  {
   "cell_type": "code",
   "execution_count": null,
   "metadata": {},
   "outputs": [],
   "source": [
    "df_group"
   ]
  },
  {
   "cell_type": "code",
   "execution_count": null,
   "metadata": {},
   "outputs": [],
   "source": [
    "df_group.loc [2014][1][\"PT\"]"
   ]
  },
  {
   "cell_type": "code",
   "execution_count": null,
   "metadata": {},
   "outputs": [],
   "source": [
    "df_group = df_group.reset_index()"
   ]
  },
  {
   "cell_type": "code",
   "execution_count": null,
   "metadata": {},
   "outputs": [],
   "source": [
    "#df_group"
   ]
  },
  {
   "cell_type": "code",
   "execution_count": null,
   "metadata": {},
   "outputs": [],
   "source": [
    "#pd.set_option('display.max_rows', 500) #mostra tudo\n",
    "#pd.set_option('display.max_rows', 25) #mostra tudo\n",
    "df_group.sort_values ( by = [\"ano_eleicao\", \"total_votos\"], ascending = [True, False]).head()"
   ]
  },
  {
   "cell_type": "code",
   "execution_count": null,
   "metadata": {},
   "outputs": [],
   "source": [
    "df_group.sort_values ( by = [\"ano_eleicao\", \"total_votos\"], ascending = [True, False])"
   ]
  },
  {
   "cell_type": "markdown",
   "metadata": {},
   "source": [
    "## Stack e Unstack\n",
    "\n",
    "* Empilhando e desempilhando dados"
   ]
  },
  {
   "cell_type": "code",
   "execution_count": null,
   "metadata": {},
   "outputs": [],
   "source": [
    "df.stack()\n",
    "df.unstack()\n",
    "df.explode()"
   ]
  },
  {
   "cell_type": "code",
   "execution_count": null,
   "metadata": {},
   "outputs": [],
   "source": [
    "df_group = df_group.sort_values ( by = [\"ano_eleicao\", \"total_votos\"], ascending = [True, False])"
   ]
  },
  {
   "cell_type": "code",
   "execution_count": null,
   "metadata": {},
   "outputs": [],
   "source": [
    "df_group = df_group.set_index ([ \"ano_eleicao\", \"numero_turno\", \"sigla_partido\"])\n",
    "df_group"
   ]
  },
  {
   "cell_type": "code",
   "execution_count": null,
   "metadata": {},
   "outputs": [],
   "source": [
    "df_unstack = df_group.unstack().fillna(0)"
   ]
  },
  {
   "cell_type": "code",
   "execution_count": null,
   "metadata": {},
   "outputs": [],
   "source": [
    "df_unstack"
   ]
  },
  {
   "cell_type": "code",
   "execution_count": null,
   "metadata": {},
   "outputs": [],
   "source": [
    "df_unstack"
   ]
  },
  {
   "cell_type": "code",
   "execution_count": null,
   "metadata": {},
   "outputs": [],
   "source": [
    "df_unstack.stack()"
   ]
  },
  {
   "cell_type": "code",
   "execution_count": null,
   "metadata": {},
   "outputs": [],
   "source": [
    "# explode\n",
    "df_dados[\"empregos\"] = [ [ \"Via Varejo\", \"Téo Me Why\", \"ASN\"],\n",
    "                        [\"studio.artesanah\"],\n",
    "                        [\"Fiscal de Obra\", \"Arquiteta\"],\n",
    "                        [\"PagSeguro\"]]\n",
    "                        "
   ]
  },
  {
   "cell_type": "code",
   "execution_count": null,
   "metadata": {},
   "outputs": [],
   "source": [
    "df_dados"
   ]
  },
  {
   "cell_type": "code",
   "execution_count": null,
   "metadata": {},
   "outputs": [],
   "source": [
    "df_dados.explode(\"empregos\")"
   ]
  },
  {
   "cell_type": "code",
   "execution_count": null,
   "metadata": {},
   "outputs": [],
   "source": [
    "#def implode (x):\n",
    "#    return list(x)"
   ]
  },
  {
   "cell_type": "code",
   "execution_count": null,
   "metadata": {},
   "outputs": [],
   "source": [
    "df_dados.groupby (\"nome\").agg ({ \"empregos\" : lambda x: list(x) [0]})"
   ]
  },
  {
   "cell_type": "markdown",
   "metadata": {},
   "source": [
    "## Joins\n",
    "\n",
    "* merge com left, right, inner, etc.\n",
    "* 'on' como chave\n",
    "\n",
    "* Falar de concat"
   ]
  },
  {
   "cell_type": "code",
   "execution_count": null,
   "metadata": {},
   "outputs": [],
   "source": [
    "df_votacao.head(2)"
   ]
  },
  {
   "cell_type": "code",
   "execution_count": null,
   "metadata": {},
   "outputs": [],
   "source": [
    "df_group.head(2)"
   ]
  },
  {
   "cell_type": "code",
   "execution_count": null,
   "metadata": {},
   "outputs": [],
   "source": [
    "type(df_group)"
   ]
  },
  {
   "cell_type": "code",
   "execution_count": null,
   "metadata": {},
   "outputs": [],
   "source": [
    "df_group = df_group.reset_index()"
   ]
  },
  {
   "cell_type": "code",
   "execution_count": null,
   "metadata": {},
   "outputs": [],
   "source": [
    "df_group"
   ]
  },
  {
   "cell_type": "code",
   "execution_count": null,
   "metadata": {},
   "outputs": [],
   "source": [
    "df_vot_join = df_votacao.merge ( right=df_group,\n",
    "                  on=[\"ano_eleicao\", \"numero_turno\", \"sigla_partido\"],\n",
    "                  how=\"left\",\n",
    "                  suffixes=[\"\", \"_partido\"] )"
   ]
  },
  {
   "cell_type": "code",
   "execution_count": null,
   "metadata": {},
   "outputs": [],
   "source": [
    "df_vot_join.head()"
   ]
  },
  {
   "cell_type": "code",
   "execution_count": null,
   "metadata": {},
   "outputs": [],
   "source": [
    "df_vot_join [\"representacao_partido\"] = df_vot_join[\"total_votos\"] / df_vot_join [\"total_votos_partido\"]"
   ]
  },
  {
   "cell_type": "code",
   "execution_count": null,
   "metadata": {},
   "outputs": [],
   "source": [
    "df_vot_join.head(10)"
   ]
  },
  {
   "cell_type": "code",
   "execution_count": null,
   "metadata": {},
   "outputs": [],
   "source": [
    "df_dados.reset_index()\n",
    "#df_dados.reset_index(drop=True)"
   ]
  },
  {
   "cell_type": "code",
   "execution_count": null,
   "metadata": {},
   "outputs": [],
   "source": [
    "# Análise de qual partido tem mais bens declarados\n",
    "df_bens = pd.read_excel( \"../data/dados/tb_bens.xlsx\" )"
   ]
  },
  {
   "cell_type": "code",
   "execution_count": null,
   "metadata": {},
   "outputs": [],
   "source": [
    "#df_bens"
   ]
  },
  {
   "cell_type": "code",
   "execution_count": null,
   "metadata": {},
   "outputs": [],
   "source": [
    "df_bens.head(2)"
   ]
  },
  {
   "cell_type": "code",
   "execution_count": null,
   "metadata": {},
   "outputs": [],
   "source": [
    "df_votos = pd.read_csv ( \"../data/dados/votacao_agg_estado.csv\")"
   ]
  },
  {
   "cell_type": "code",
   "execution_count": null,
   "metadata": {},
   "outputs": [],
   "source": [
    "df_votos.head(2)"
   ]
  },
  {
   "cell_type": "code",
   "execution_count": null,
   "metadata": {},
   "outputs": [],
   "source": [
    "df_votos"
   ]
  },
  {
   "cell_type": "code",
   "execution_count": null,
   "metadata": {},
   "outputs": [],
   "source": [
    "df_bens[df_bens[\"ano_eleicao\"] == 2018]\n",
    "df_bens[df_bens[\"ano_eleicao\"] == 2018].shape\n",
    "df_bens[df_bens[\"ano_eleicao\"] == 2018] [\"numero_sequencial\"].nunique()"
   ]
  },
  {
   "cell_type": "code",
   "execution_count": null,
   "metadata": {},
   "outputs": [],
   "source": [
    "df_total_bens = df_bens.groupby ([ \"ano_eleicao\", \"descricao_eleicao\", \"numero_sequencial\" ]) [\"valor\"].sum()\n",
    "df_total_bens"
   ]
  },
  {
   "cell_type": "code",
   "execution_count": null,
   "metadata": {},
   "outputs": [],
   "source": [
    "# importa os votos dos candidatos por turno\n",
    "df_votos = pd.read_csv ( \"../data/dados/votacao_agg_estado.csv\")"
   ]
  },
  {
   "cell_type": "code",
   "execution_count": null,
   "metadata": {},
   "outputs": [],
   "source": [
    "df_votos = df_votos.merge( right=df_total_bens,\n",
    "                          on=[\"ano_eleicao\", \"descricao_eleicao\", \"numero_sequencial\"],\n",
    "                          how=\"left\")\n",
    "df_votos\n",
    "#checando se deu certo\n",
    "#df_votos [ (df_votos [\"ano_eleicao\"] == 2018 ) & (df_votos[\"nome\"].apply (lambda x: \"BOLSONARO\" in x))]"
   ]
  },
  {
   "cell_type": "code",
   "execution_count": null,
   "metadata": {},
   "outputs": [],
   "source": [
    "df_votos.groupby ([\"sigla_partido\"]) [\"valor\"].sum().reset_index() \n",
    "#aqui nao pode, precisar ordenar primeiro"
   ]
  },
  {
   "cell_type": "code",
   "execution_count": null,
   "metadata": {},
   "outputs": [],
   "source": [
    "df_analysis = df_votos.sort_values ( by = [\"ano_eleicao\", \"numero_sequencial\", \"numero_turno\"])\n",
    "\n",
    "colunas_interesse = [\"ano_eleicao\",\n",
    "                       \"descricao_eleicao\",\n",
    "                       \"sigla_partido\",\n",
    "                       \"nome\",\n",
    "                       \"numero_turno\",\n",
    "                       \"numero_sequencial\",\n",
    "                      \"valor\"] \n",
    "                     \n",
    "             \n",
    "df_analysis = df_analysis [ colunas_interesse ]\n",
    "  \n",
    "df_analysis = df_analysis.drop_duplicates ( subset = [ \"ano_eleicao\", \"numero_sequencial\"],\n",
    "                            keep=\"first\")"
   ]
  },
  {
   "cell_type": "code",
   "execution_count": null,
   "metadata": {},
   "outputs": [],
   "source": [
    "df_analysis[ (df_analysis[\"ano_eleicao\"] == 2018) & ( df_analysis[\"nome\"].apply(lambda x: \"BOLSONARO\" in x) ) ]"
   ]
  },
  {
   "cell_type": "code",
   "execution_count": null,
   "metadata": {},
   "outputs": [],
   "source": [
    "pd.options.display.float_format = '${:,.2f}'.format\n",
    "df_resultado = df_analysis.groupby ( [ \"ano_eleicao\", \"sigla_partido\"]) [\"valor\"].sum().reset_index()"
   ]
  },
  {
   "cell_type": "code",
   "execution_count": null,
   "metadata": {},
   "outputs": [],
   "source": [
    "#salvando no arquivo excel\n",
    "df_resultado.to_excel(\"../data/dados/resultado_analise_partido_juliana.xlsx\")"
   ]
  },
  {
   "cell_type": "code",
   "execution_count": null,
   "metadata": {},
   "outputs": [],
   "source": [
    "#instalar o pacote sqlalchemy\n",
    "!pip install sqlalchemy"
   ]
  },
  {
   "cell_type": "code",
   "execution_count": null,
   "metadata": {},
   "outputs": [],
   "source": [
    "import sqlalchemy"
   ]
  },
  {
   "cell_type": "code",
   "execution_count": null,
   "metadata": {},
   "outputs": [],
   "source": [
    "# criando engine de conexão\n",
    "con = sqlalchemy.create_engine(\"sqlite:///../data/dados/banco.db\")\n",
    "\n",
    "# tabelas que estao presentes no banco\n",
    "con.table_names()"
   ]
  },
  {
   "cell_type": "code",
   "execution_count": null,
   "metadata": {},
   "outputs": [],
   "source": [
    "df_bens = pd.read_sql_table (\"tb_bens\", con)\n",
    "df_bens.shape"
   ]
  },
  {
   "cell_type": "code",
   "execution_count": null,
   "metadata": {},
   "outputs": [],
   "source": [
    "df_votos = pd.read_sql_table (\"tb_votacao\", con)\n",
    "df_votos.shape"
   ]
  },
  {
   "cell_type": "code",
   "execution_count": null,
   "metadata": {},
   "outputs": [],
   "source": [
    "df_head = pd.read_sql_query( \"SELECT * FROM tb_votacao limit 10\", con )\n",
    "df_head"
   ]
  },
  {
   "cell_type": "code",
   "execution_count": null,
   "metadata": {},
   "outputs": [],
   "source": [
    "query = '''\n",
    "\n",
    "\n",
    "select t1.ano_eleicao,\n",
    "       t1.sigla_partido,\n",
    "       t1.nome,\n",
    "       t1.numero_sequencial,\n",
    "       sum(t2.valor) as valor\n",
    "\n",
    "from tb_votacao as t1\n",
    "\n",
    "left join tb_bens as t2\n",
    "on t1.ano_eleicao = t2.ano_eleicao\n",
    "and t1.descricao_eleicao = t2.descricao_eleicao\n",
    "and t1.numero_sequencial = t2.numero_sequencial\n",
    "\n",
    "where t1.numero_turno = 1\n",
    "\n",
    "group by t1.ano_eleicao,\n",
    "         t1.sigla_partido,\n",
    "         t1.nome,\n",
    "         t1.numero_sequencial\n",
    "\n",
    "'''\n",
    "df_resposta = pd.read_sql_query (query, con)"
   ]
  },
  {
   "cell_type": "code",
   "execution_count": null,
   "metadata": {},
   "outputs": [],
   "source": [
    "df_resposta"
   ]
  },
  {
   "cell_type": "code",
   "execution_count": null,
   "metadata": {},
   "outputs": [],
   "source": [
    "df_analysis = df_resposta.groupby ( [ \"ano_eleicao\", \"sigla_partido\"])[\"valor\"].sum().reset_index() \n",
    "df_analysis"
   ]
  },
  {
   "cell_type": "code",
   "execution_count": null,
   "metadata": {},
   "outputs": [],
   "source": [
    "df_analysis.to_sql (\"tb_patrimonio_partido\", con, if_exists = \"replace\", index=False)"
   ]
  },
  {
   "cell_type": "code",
   "execution_count": null,
   "metadata": {},
   "outputs": [],
   "source": [
    "con.table_names()"
   ]
  },
  {
   "cell_type": "code",
   "execution_count": null,
   "metadata": {},
   "outputs": [],
   "source": [
    "df_pat = pd.read_sql_query( \"SELECT * FROM tb_patrimonio_partido limit 10\", con )"
   ]
  },
  {
   "cell_type": "code",
   "execution_count": null,
   "metadata": {},
   "outputs": [],
   "source": [
    "df_pat "
   ]
  },
  {
   "cell_type": "code",
   "execution_count": null,
   "metadata": {},
   "outputs": [],
   "source": [
    "df_pat.columns.tolist()"
   ]
  },
  {
   "cell_type": "markdown",
   "metadata": {},
   "source": [
    "## Integração com banco de dados SQL\n",
    "\n",
    "* Enviando query para o banco\n",
    "* Consumindo tabela do banco\n",
    "* Enviando dados para o banco"
   ]
  },
  {
   "cell_type": "code",
   "execution_count": null,
   "metadata": {},
   "outputs": [],
   "source": [
    "https://www.twitch.tv/teomewhypd.read_sql()"
   ]
  }
 ],
 "metadata": {
  "kernelspec": {
   "display_name": "Python 3",
   "language": "python",
   "name": "python3"
  },
  "language_info": {
   "codemirror_mode": {
    "name": "ipython",
    "version": 3
   },
   "file_extension": ".py",
   "mimetype": "text/x-python",
   "name": "python",
   "nbconvert_exporter": "python",
   "pygments_lexer": "ipython3",
   "version": "3.8.5"
  }
 },
 "nbformat": 4,
 "nbformat_minor": 2
}
